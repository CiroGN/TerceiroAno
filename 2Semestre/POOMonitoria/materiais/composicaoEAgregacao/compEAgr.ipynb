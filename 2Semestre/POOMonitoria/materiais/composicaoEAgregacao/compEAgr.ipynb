{
 "cells": [
  {
   "cell_type": "markdown",
   "id": "5c05ab97",
   "metadata": {},
   "source": [
    "# Agregação\n",
    "Na agregação, um objeto é parte de outro objeto, mas pode existir independentemente. "
   ]
  },
  {
   "cell_type": "markdown",
   "id": "9dca9d1e",
   "metadata": {},
   "source": [
    "## Time e Jogador"
   ]
  },
  {
   "cell_type": "code",
   "execution_count": null,
   "id": "80187617",
   "metadata": {},
   "outputs": [],
   "source": [
    "class Jogador:\n",
    "    def __init__(self, nome, idade, posicao):\n",
    "        self.nome = nome\n",
    "        self.idade = idade\n",
    "        self.posicao = posicao\n",
    "        self.Time = None # pode existir sem um time\n",
    "\n",
    "class Time:\n",
    "    def __init__(self, nomeTime, tecnico):\n",
    "        self.nomeTime = nomeTime\n",
    "        self.tecnico = tecnico\n",
    "        self.jogadores = []\n",
    "    \n",
    "    def agregar(self, jogador):\n",
    "        self.jogadores.append(jogador)\n",
    "\n",
    "    def listarJogadores(self):\n",
    "        for j in self.jogadores:\n",
    "            print(j.nome)\n",
    "\n",
    "\n",
    "jogador1 = Jogador(\"ciro\", 20, \"todas\")\n",
    "jogador2 = Jogador(\"outro\", 10, \"aqula\")\n",
    "time1 = Time(\"Time\", \"Izaque\")\n",
    "time1.agregar(jogador1)\n",
    "time1.agregar(jogador2)\n",
    "time1.listarJogadores()\n",
    "    "
   ]
  },
  {
   "cell_type": "markdown",
   "id": "644d2a23",
   "metadata": {},
   "source": [
    "# Composição\n",
    "Na composição, um objeto é parte essencial de outro objeto.<br>\n",
    "A vida útil do objeto parte está diretamente ligada ao objeto todo.<br>\n",
    "Se o objeto todo for destruído, o objeto parte também será destruído. \n"
   ]
  },
  {
   "cell_type": "markdown",
   "id": "1681f895",
   "metadata": {},
   "source": [
    "## Exemplo de composição"
   ]
  },
  {
   "cell_type": "code",
   "execution_count": 11,
   "id": "69a1ca49",
   "metadata": {},
   "outputs": [
    {
     "name": "stdout",
     "output_type": "stream",
     "text": [
      "<__main__.Carro object at 0x000001398D90DBE0>\n"
     ]
    },
    {
     "ename": "NameError",
     "evalue": "name 'carro1' is not defined",
     "output_type": "error",
     "traceback": [
      "\u001b[31m---------------------------------------------------------------------------\u001b[39m",
      "\u001b[31mNameError\u001b[39m                                 Traceback (most recent call last)",
      "\u001b[36mCell\u001b[39m\u001b[36m \u001b[39m\u001b[32mIn[11]\u001b[39m\u001b[32m, line 16\u001b[39m\n\u001b[32m     14\u001b[39m \u001b[38;5;28mprint\u001b[39m(carro1)\n\u001b[32m     15\u001b[39m \u001b[38;5;28;01mdel\u001b[39;00m carro1\n\u001b[32m---> \u001b[39m\u001b[32m16\u001b[39m \u001b[38;5;28mprint\u001b[39m(\u001b[43mcarro1\u001b[49m) \u001b[38;5;66;03m# carro1 n existe mais\u001b[39;00m\n",
      "\u001b[31mNameError\u001b[39m: name 'carro1' is not defined"
     ]
    }
   ],
   "source": [
    "class Motor:\n",
    "    def __init__(self, potencia):\n",
    "        self.potencia = potencia\n",
    "\n",
    "class Carro:\n",
    "    def __init__(self, marca, modelo, motor):\n",
    "        self.marca = marca\n",
    "        self.modelo = modelo\n",
    "        self.motor = motor # futuramente recebera um objeto como parametro\n",
    "\n",
    "motor1 = Motor(150)\n",
    "carro1 = Carro(\"marca\", \"modelo\", motor1)\n",
    "\n",
    "print(carro1)\n",
    "del carro1\n",
    "print(carro1) # carro1 n existe mais"
   ]
  },
  {
   "cell_type": "markdown",
   "id": "1eee99c9",
   "metadata": {},
   "source": [
    "## Pessoa e Endereço"
   ]
  },
  {
   "cell_type": "code",
   "execution_count": 4,
   "id": "8289cc3c",
   "metadata": {},
   "outputs": [
    {
     "name": "stdout",
     "output_type": "stream",
     "text": [
      "Objeto Ciro foi destruído\n",
      "nome: Ciro; idade: 10; endereço: rua: Visconde, cidade: Curitiba, estado: Curitiba\n"
     ]
    }
   ],
   "source": [
    "class Pessoa:\n",
    "    def __init__(self, nome, idade, endereco):\n",
    "        self.nome = nome\n",
    "        self.idade = idade\n",
    "        self.endereco = endereco\n",
    "\n",
    "    def __str__(self):\n",
    "        return f'nome: {self.nome}; idade: {self.idade}; endereço: {self.endereco}'\n",
    "\n",
    "    def __del__(self):\n",
    "        print(f'Objeto {self.nome} foi destruído')\n",
    "\n",
    "class Endereco:\n",
    "    def __init__(self, rua, cidade, estado):\n",
    "        self.rua = rua\n",
    "        self.cidade = cidade\n",
    "        self.estado = estado\n",
    "    \n",
    "    def __str__(self):\n",
    "        return f'rua: {self.rua}, cidade: {self.cidade}, estado: {self.cidade}'\n",
    "\n",
    "p = Pessoa(\"Ciro\", 10, Endereco(\"Visconde\", \"Curitiba\", \"PR\"))\n",
    "print(p)"
   ]
  },
  {
   "cell_type": "markdown",
   "id": "23fdadd3",
   "metadata": {},
   "source": [
    "## Último exercicio\n"
   ]
  },
  {
   "cell_type": "code",
   "execution_count": 1,
   "id": "28826906",
   "metadata": {},
   "outputs": [
    {
     "name": "stdout",
     "output_type": "stream",
     "text": [
      "id do pedido  |  data  |  valor de desconto  |  item(ns)\n",
      "1  |  04/10  |  15.0  |      colher (2x, R$5.00)    escova (1x, R$10.50)    copo (3x, R$3.25)\n",
      "id do pedido  |  data  |  valor de desconto  |  item(ns)\n",
      "1  |  04/10  |  15.0  |      colher (2x, R$5.00)    escova (1x, R$10.50)\n"
     ]
    }
   ],
   "source": [
    "class Item:\n",
    "    def __init__(self, idItem, descricao, quantidade, valorUnitario):\n",
    "        self.iditem = idItem\n",
    "        self.descricao = descricao\n",
    "        self.quantidade = quantidade\n",
    "        self.valorUnitario = valorUnitario\n",
    "        \n",
    "    def __str__(self):\n",
    "        return f'{self.descricao} ({self.quantidade}x, R${self.valorUnitario:.2f})'\n",
    "\n",
    "\n",
    "class Pedido:\n",
    "    def __init__(self, idPedido, data, valorDesconto, item):\n",
    "        self.idPedido = idPedido\n",
    "        self.data = data\n",
    "        self.valorDesconto = valorDesconto\n",
    "        self.item = item\n",
    "    \n",
    "    def imprimeItens(self):\n",
    "        # usa list comprehension e join para juntar os itens.\n",
    "        # o 'str(i)' invoca o __str__ de cada objeto Item.\n",
    "        return '    ' + '    '.join([str(i) for i in self.item])\n",
    "    \n",
    "    def __str__(self):\n",
    "        # formatação para exibir todos os dados do pedido e, depois, a lista de itens.\n",
    "        return (f'id do pedido  |  data  |  valor de desconto  |  item(ns)\\n'\n",
    "                f'{self.idPedido}  |  {self.data}  |  {self.valorDesconto}  |  {self.imprimeItens()}')\n",
    "\n",
    "# Pedido com multiplos itens como parâmetro\n",
    "p1 = Pedido(1, '04/10', 15.00, [\n",
    "    Item(1, \"colher\", 2, 5.00), \n",
    "    Item(2, \"escova\", 1, 10.50),\n",
    "    Item(3, \"copo\", 3, 3.25) \n",
    "])\n",
    "\n",
    "print(p1)\n",
    "\n",
    "# for para remover um item do pedido\n",
    "for i in p1.item:\n",
    "    if i.iditem == 3:\n",
    "        p1.item.remove(i)\n",
    "\n",
    "print(p1)"
   ]
  }
 ],
 "metadata": {
  "kernelspec": {
   "display_name": "Python 3",
   "language": "python",
   "name": "python3"
  },
  "language_info": {
   "codemirror_mode": {
    "name": "ipython",
    "version": 3
   },
   "file_extension": ".py",
   "mimetype": "text/x-python",
   "name": "python",
   "nbconvert_exporter": "python",
   "pygments_lexer": "ipython3",
   "version": "3.13.2"
  }
 },
 "nbformat": 4,
 "nbformat_minor": 5
}
