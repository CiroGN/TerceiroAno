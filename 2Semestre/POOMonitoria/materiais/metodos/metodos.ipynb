{
 "cells": [
  {
   "cell_type": "markdown",
   "id": "6f230f6d",
   "metadata": {},
   "source": [
    "# Métodos"
   ]
  }
 ],
 "metadata": {
  "language_info": {
   "name": "python"
  }
 },
 "nbformat": 4,
 "nbformat_minor": 5
}
