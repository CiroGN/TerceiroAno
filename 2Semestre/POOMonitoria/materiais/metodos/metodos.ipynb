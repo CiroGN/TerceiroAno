{
 "cells": [
  {
   "cell_type": "markdown",
   "id": "6f230f6d",
   "metadata": {},
   "source": [
    "# Métodos"
   ]
  },
  {
   "cell_type": "markdown",
   "id": "0952628a",
   "metadata": {},
   "source": [
    "## Construtor"
   ]
  },
  {
   "cell_type": "code",
   "execution_count": 7,
   "id": "0761b53e",
   "metadata": {},
   "outputs": [
    {
     "name": "stdout",
     "output_type": "stream",
     "text": [
      "<__main__.Cachorro object at 0x000002D1B607D010>\n"
     ]
    }
   ],
   "source": [
    "class Cachorro:\n",
    "    def __init__(self, nome, idade):\n",
    "        self.nome = nome\n",
    "        self.idade = idade\n",
    "\n",
    "c = Cachorro('dog', 5)\n",
    "print(c)"
   ]
  },
  {
   "cell_type": "markdown",
   "id": "65866e25",
   "metadata": {},
   "source": [
    "## objeto mas podendo print(objeto)"
   ]
  },
  {
   "cell_type": "code",
   "execution_count": 15,
   "id": "d9af480c",
   "metadata": {},
   "outputs": [
    {
     "name": "stdout",
     "output_type": "stream",
     "text": [
      "Valor do atributo nome do objeto: dog\n",
      "Valor do atributo nome do objeto: novo nome\n"
     ]
    }
   ],
   "source": [
    "class Cachorro:\n",
    "    def __init__(self, nome, idade):\n",
    "        self.nome = nome\n",
    "        self.idade = idade\n",
    "    def __str__(self):\n",
    "        return f\"Valor do atributo nome do objeto: {self.nome}\" \n",
    "        # return + self.nome\n",
    "c = Cachorro('dog', 5)\n",
    "print(c)\n",
    "c.nome = \"novo nome\" # n pode, feio dms\n",
    "print(c)"
   ]
  },
  {
   "cell_type": "markdown",
   "id": "63b4cbf3",
   "metadata": {},
   "source": [
    "## get e set"
   ]
  },
  {
   "cell_type": "code",
   "execution_count": 26,
   "id": "79823c4f",
   "metadata": {},
   "outputs": [
    {
     "name": "stdout",
     "output_type": "stream",
     "text": [
      "Nome: Ciro\n"
     ]
    },
    {
     "data": {
      "text/plain": [
       "'Nome: outro'"
      ]
     },
     "execution_count": 26,
     "metadata": {},
     "output_type": "execute_result"
    }
   ],
   "source": [
    "class Pessoa:\n",
    "    def __init__(self, nome):\n",
    "        self.nome = nome\n",
    "    def __str__(self):\n",
    "        return self.nome\n",
    "    def __repr__(self):\n",
    "        return self.nome\n",
    "    def getNome(self):\n",
    "        return f\"Nome: {self.nome}\"\n",
    "    def setNome(self, nome):\n",
    "        self.nome = nome\n",
    "\n",
    "# usar o return para imprimir multiplas vezes como um print, faz com que apareca apenas uma vez no terminal, por isso o do print()\n",
    "pessoa = Pessoa(\"Ciro\")\n",
    "print(pessoa.getNome())\n",
    "pessoa.setNome('outro')\n",
    "pessoa.getNome()"
   ]
  },
  {
   "cell_type": "markdown",
   "id": "4dc6af32",
   "metadata": {},
   "source": [
    "## privacidade dos atributos\n",
    "\"__\" (dois) underscores para atributo privado - privado: somente a própria classe pode acessar e interagir com seus atributos<br>\n",
    "\"_\" (um) underscore para atributo protegido - protegido: classes filhas e relacionadas podem acessar e interagir com os atributos"
   ]
  },
  {
   "cell_type": "code",
   "execution_count": 31,
   "id": "0a87bd45",
   "metadata": {},
   "outputs": [
    {
     "name": "stdout",
     "output_type": "stream",
     "text": [
      "Nome: Ciro\n",
      "Novo nome\n",
      "Nome: outro\n"
     ]
    },
    {
     "data": {
      "text/plain": [
       "'Nome: outro'"
      ]
     },
     "execution_count": 31,
     "metadata": {},
     "output_type": "execute_result"
    }
   ],
   "source": [
    "class Pessoa:\n",
    "    def __init__(self, nome):\n",
    "        self.__nome = nome\n",
    "    def __str__(self):\n",
    "        return self.__nome\n",
    "    def __repr__(self):\n",
    "        return self.__nome\n",
    "    def getNome(self):\n",
    "        return f\"Nome: {self.__nome}\"\n",
    "    def setNome(self, nome):\n",
    "        self.__nome = nome\n",
    "\n",
    "# usar o return para imprimir multiplas vezes como um print, faz com que apareca apenas uma vez no terminal, por isso o do print()\n",
    "pessoa = Pessoa(\"Ciro\")\n",
    "print(pessoa.getNome())\n",
    "pessoa.setNome('outro')\n",
    "pessoa.nome = \"Novo nome\"\n",
    "print(pessoa.nome)\n",
    "print(pessoa.getNome())\n",
    "pessoa.getNome()"
   ]
  },
  {
   "cell_type": "markdown",
   "id": "5d2fa30b",
   "metadata": {},
   "source": [
    "## Exercicio conta"
   ]
  },
  {
   "cell_type": "code",
   "execution_count": null,
   "id": "8df7ba8c",
   "metadata": {},
   "outputs": [
    {
     "name": "stdout",
     "output_type": "stream",
     "text": [
      "numero conta: 1\n",
      "nome titular: Ciro\n",
      "saldo: 0\n",
      "numero conta: 1\n",
      "nome titular: Ciro\n",
      "saldo: 500\n",
      "numero conta: 1\n",
      "nome titular: Ciro\n",
      "saldo: 0\n"
     ]
    }
   ],
   "source": [
    "class Conta:\n",
    "    def __init__(self, numero, titular, saldo):\n",
    "        self.numero = numero\n",
    "        self.titular = titular\n",
    "        if saldo < 0:\n",
    "            self.__saldo = 0\n",
    "        else:\n",
    "            self.__saldo = saldo\n",
    "\n",
    "    def __str__(self):\n",
    "        return f'numero conta: {self.numero}\\nnome titular: {self.titular}\\nsaldo: {self.__saldo}'\n",
    "    def getNumero(self):\n",
    "        return self.numero\n",
    "    def getTitular(self):\n",
    "        return self.titular\n",
    "    def getSaldo(self):\n",
    "        return self.__saldo\n",
    "    \n",
    "    def setNumero(self, numero):\n",
    "        self.numero = numero\n",
    "    def setTitular(self, titular):\n",
    "        self.titular = titular\n",
    "    def setSaldo(self, saldo):\n",
    "        self.__saldo = saldo\n",
    "\n",
    "    def deposito(self, valor):\n",
    "        self.__saldo += valor\n",
    "\n",
    "    def saque(self, valor = int(input(\"valor de saque: \"))):\n",
    "        if valor > self.__saldo:\n",
    "            print('saldo insuficiente')\n",
    "            return self.saque(valor = int(input(\"valor de saque: \"))) # recursividade\n",
    "        else:\n",
    "            self.__saldo -= valor \n",
    "\n",
    "    def transferencia(self, numero, titular, valor):\n",
    "        if \n",
    "        \n",
    "        self.saque(valor)\n",
    "\n",
    "\n",
    "c1 = Conta('1', 'Ciro', 0)\n",
    "c1.saldo = 1000000000000000\n",
    "c1.getSaldo()\n",
    "print(c1)\n",
    "c1.deposito(500)\n",
    "print(c1)\n",
    "c1.saque()\n",
    "print(c1)"
   ]
  }
 ],
 "metadata": {
  "kernelspec": {
   "display_name": "Python 3",
   "language": "python",
   "name": "python3"
  },
  "language_info": {
   "codemirror_mode": {
    "name": "ipython",
    "version": 3
   },
   "file_extension": ".py",
   "mimetype": "text/x-python",
   "name": "python",
   "nbconvert_exporter": "python",
   "pygments_lexer": "ipython3",
   "version": "3.13.2"
  }
 },
 "nbformat": 4,
 "nbformat_minor": 5
}
