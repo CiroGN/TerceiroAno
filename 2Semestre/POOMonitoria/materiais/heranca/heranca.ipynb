{
 "cells": [
  {
   "cell_type": "markdown",
   "id": "f41d08e4",
   "metadata": {},
   "source": [
    "__Material referente a aula 8 de Heranças de POO__"
   ]
  },
  {
   "cell_type": "markdown",
   "id": "f4ba09ea",
   "metadata": {},
   "source": [
    "# Herança"
   ]
  },
  {
   "cell_type": "markdown",
   "id": "2914e0c6",
   "metadata": {},
   "source": [
    "## Exemplo de herança\n",
    "uma classe filha herda métodos e características da classe pai"
   ]
  },
  {
   "cell_type": "code",
   "execution_count": 1,
   "id": "299b42db",
   "metadata": {},
   "outputs": [
    {
     "name": "stdout",
     "output_type": "stream",
     "text": [
      "Ciro está comendo\n",
      "Au Au\n",
      "Ciro está dormindo\n",
      "Idade:  8\n",
      "GN está comendo\n",
      "Miau\n",
      "GN está dormindo\n",
      "Idade:  10\n",
      "Piu está comendo\n",
      "Piu Piu\n",
      "Piu está dormindo\n",
      "Idade:  2\n"
     ]
    }
   ],
   "source": [
    "class Animal:\n",
    "    def __init__(self, nome, idade):\n",
    "        self.nome = nome\n",
    "        self.idade = idade\n",
    "\n",
    "    def comer(self):\n",
    "        print(f'{self.nome} está comendo')\n",
    "\n",
    "    def dormir(self):\n",
    "        print(f'{self.nome} está dormindo')\n",
    "\n",
    "class Cachorro(Animal):\n",
    "    def latir(self):\n",
    "        print(\"Au Au\")\n",
    "\n",
    "class Gato(Animal):\n",
    "    def miar(self):\n",
    "        print(\"Miau\")\n",
    "\n",
    "class Passaro(Animal):\n",
    "    def cantar(self):\n",
    "        print(\"Piu Piu\")\n",
    "\n",
    "k = Cachorro(\"Ciro\", 8)\n",
    "g = Gato(\"GN\", 10)\n",
    "p = Passaro(\"Piu\", 2)\n",
    "k.comer()\n",
    "k.latir()\n",
    "k.dormir()\n",
    "print(\"Idade: \", k.idade)\n",
    "g.comer()\n",
    "g.miar()\n",
    "g.dormir()\n",
    "print(\"Idade: \", g.idade)\n",
    "p.comer()\n",
    "p.cantar()\n",
    "p.dormir()\n",
    "print(\"Idade: \", p.idade)"
   ]
  },
  {
   "cell_type": "markdown",
   "id": "6b1f6632",
   "metadata": {},
   "source": [
    "## Loja de animais de estimação (Parte1)"
   ]
  },
  {
   "cell_type": "code",
   "execution_count": 6,
   "id": "3e071883",
   "metadata": {},
   "outputs": [
    {
     "name": "stdout",
     "output_type": "stream",
     "text": [
      "Ciro está comendo\n",
      "Au Au\n",
      "Ciro está dormindo\n",
      "Idade:  8\n",
      "GN está comendo\n",
      "Miau\n",
      "GN está dormindo\n",
      "False\n",
      "GN foi vacinado\n",
      "True\n",
      "Idade:  10\n"
     ]
    }
   ],
   "source": [
    "class Animal:\n",
    "    def __init__(self, nome, idade):\n",
    "        self.nome = nome\n",
    "        self.idade = idade\n",
    "        self.statusVacinal = False\n",
    "\n",
    "    def comer(self):\n",
    "        print(f'{self.nome} está comendo')\n",
    "\n",
    "    def dormir(self):\n",
    "        print(f'{self.nome} está dormindo')\n",
    "\n",
    "    def vacianar(self):\n",
    "        print(f'{self.nome} foi vacinado')\n",
    "        self.statusVacinal = True\n",
    "\n",
    "class Cachorro(Animal):\n",
    "    def latir(self):\n",
    "        print(\"Au Au\")\n",
    "\n",
    "class Gato(Animal):\n",
    "    def miar(self):\n",
    "        print(\"Miau\")\n",
    "\n",
    "\n",
    "k = Cachorro(\"Ciro\", 8)\n",
    "g = Gato(\"GN\", 10)\n",
    "k.comer()\n",
    "k.latir()\n",
    "k.dormir()\n",
    "print(\"Idade: \", k.idade)\n",
    "g.comer()\n",
    "g.miar()\n",
    "g.dormir()\n",
    "print(g.statusVacinal)\n",
    "g.vacianar()\n",
    "print(g.statusVacinal)\n",
    "print(\"Idade: \", g.idade)\n"
   ]
  },
  {
   "cell_type": "markdown",
   "id": "e947084a",
   "metadata": {},
   "source": [
    "## Loja de animais de estimação (Parte 2)"
   ]
  },
  {
   "cell_type": "code",
   "execution_count": null,
   "id": "b6c5a997",
   "metadata": {},
   "outputs": [
    {
     "name": "stdout",
     "output_type": "stream",
     "text": [
      "CiroDog está comendo\n",
      "Au Au\n",
      "CiroDog está dormindo\n",
      "Idade:  8\n",
      "CiroCat está comendo\n",
      "Miau\n",
      "CiroCat está dormindo\n",
      "False\n",
      "CiroCat foi vacinado\n",
      "True\n",
      "Idade:  10\n"
     ]
    }
   ],
   "source": [
    "class Animal:\n",
    "    def __init__(self, nome, idade, dono):\n",
    "        self.nome = nome\n",
    "        self.idade = idade\n",
    "        self.statusVacinal = False\n",
    "        self.dono = dono\n",
    "\n",
    "    def comer(self):\n",
    "        print(f'{self.nome} está comendo')\n",
    "\n",
    "    def dormir(self):\n",
    "        print(f'{self.nome} está dormindo')\n",
    "\n",
    "    def vacianar(self):\n",
    "        print(f'{self.nome} foi vacinado')\n",
    "        self.statusVacinal = True\n",
    "\n",
    "class Cachorro(Animal):\n",
    "    def latir(self):\n",
    "        print(\"Au Au\")\n",
    "\n",
    "class Gato(Animal):\n",
    "    def miar(self):\n",
    "        print(\"Miau\")\n",
    "\n",
    "class Cliente():\n",
    "    def __init__(self, nome, cpf):\n",
    "        self.nome = nome\n",
    "        self.cpf = cpf\n",
    "        self.animais = []\n",
    "    \n",
    "    def adicionarAnimal(self, animal):\n",
    "        self.animais.append(animal)\n",
    "        print(f'Animal {animal.nome} adicionado ao cliente {self.nome}')\n",
    "\n",
    "\n",
    "ciro = Cliente(\"Ciro\", \"123.456.789-00\")\n",
    "k = Cachorro(\"CiroDog\", 8, ciro)\n",
    "g = Gato(\"CiroCat\", 10, ciro)\n",
    "# ciro.adicionarAnimal(k)\n",
    "# ciro.adicionarAnimal(g)\n",
    "k.comer()\n",
    "k.latir()\n",
    "k.dormir()\n",
    "print(\"Idade: \", k.idade)\n",
    "g.comer()\n",
    "g.miar()\n",
    "g.dormir()\n",
    "print(g.statusVacinal)\n",
    "g.vacianar()\n",
    "print(g.statusVacinal)\n",
    "print(\"Idade: \", g.idade)"
   ]
  },
  {
   "cell_type": "markdown",
   "id": "82c0d027",
   "metadata": {},
   "source": [
    "## Loja de animais de estimação (Parte 3)"
   ]
  },
  {
   "cell_type": "code",
   "execution_count": null,
   "id": "9fe6357d",
   "metadata": {},
   "outputs": [
    {
     "name": "stdout",
     "output_type": "stream",
     "text": [
      "CiroDog está comendo\n",
      "Au Au\n",
      "CiroDog está dormindo\n",
      "Idade:  8\n",
      "Evento \"Consulta veterinária em 01/01/2024\" adicionado ao histórico de CiroDog\n",
      "CiroDog foi vacinado\n",
      "True\n",
      "Evento \"Banho em 01/01/2024\" adicionado ao histórico de CiroDog\n",
      "['Consulta veterinária em 01/01/2024', 'Banho em 01/01/2024']\n"
     ]
    }
   ],
   "source": [
    "class Animal:\n",
    "    def __init__(self, nome, idade, dono):\n",
    "        self.nome = nome\n",
    "        self.idade = idade\n",
    "        self.statusVacinal = False\n",
    "        self.dono = dono\n",
    "        self.historico = []\n",
    "\n",
    "    def comer(self):\n",
    "        print(f'{self.nome} está comendo')\n",
    "\n",
    "    def dormir(self):\n",
    "        print(f'{self.nome} está dormindo')\n",
    "\n",
    "    def vacianar(self):\n",
    "        print(f'{self.nome} foi vacinado')\n",
    "        self.statusVacinal = True\n",
    "\n",
    "    def adicionarHistorico(self, evento):\n",
    "        self.historico.append(evento)\n",
    "        print(f'Evento \"{evento}\" adicionado ao histórico de {self.nome}')\n",
    "\n",
    "class Cachorro(Animal):\n",
    "    def latir(self):\n",
    "        print(\"Au Au\")\n",
    "\n",
    "class Gato(Animal):\n",
    "    def miar(self):\n",
    "        print(\"Miau\")\n",
    "\n",
    "class Cliente():\n",
    "    def __init__(self, nome, cpf):\n",
    "        self.nome = nome\n",
    "        self.cpf = cpf\n",
    "        self.animais = []\n",
    "    \n",
    "    def adicionarAnimal(self, animal):\n",
    "        self.animais.append(animal)\n",
    "        print(f'Animal {animal.nome} adicionado ao cliente {self.nome}')\n",
    "\n",
    "\n",
    "ciro = Cliente(\"Ciro\", \"123.456.789-00\")\n",
    "k = Cachorro(\"CiroDog\", 8, ciro)\n",
    "g = Gato(\"CiroCat\", 10, ciro)\n",
    "# ciro.adicionarAnimal(k)\n",
    "# ciro.adicionarAnimal(g)\n",
    "k.comer()\n",
    "k.latir()\n",
    "k.dormir()\n",
    "print(\"Idade: \", k.idade)\n",
    "k.adicionarHistorico(\"Consulta veterinária em 01/01/2024\")\n",
    "k.vacianar()\n",
    "print(k.statusVacinal)\n",
    "k.adicionarHistorico(\"Banho em 01/01/2024\")\n",
    "print(k.historico)\n"
   ]
  },
  {
   "cell_type": "markdown",
   "id": "96ae0e67",
   "metadata": {},
   "source": [
    "## Classes e subclasses\n",
    "subclasse chama o construtor do pai passando como parâmetros os próprios do objeto da subclasse"
   ]
  },
  {
   "cell_type": "code",
   "execution_count": 4,
   "id": "4f6887e4",
   "metadata": {},
   "outputs": [
    {
     "name": "stdout",
     "output_type": "stream",
     "text": [
      "Olá, meu nome é Ciro, meu telefone é 123 e meu CPF é 123.\n",
      "Olá, meu nome é Ciro Enterprise, meu telefone é 456 e meu CNPJ é 12345678.\n"
     ]
    }
   ],
   "source": [
    "class Cliente:\n",
    "    def __init__(self, nome, telefone):\n",
    "        self.nome = nome\n",
    "        self.telefone = telefone\n",
    "\n",
    "    def __str__(self):\n",
    "        return f\"Olá, meu nome é {self.nome} e meu telefone é {self.telefone}.\"\n",
    "    \n",
    "class PessoaFisica(Cliente):\n",
    "    def __init__(self, nome, telefone, cpf):\n",
    "        super().__init__(nome, telefone)\n",
    "        self.cpf = cpf\n",
    "\n",
    "    def __str__(self):\n",
    "        return f\"Olá, meu nome é {self.nome}, meu telefone é {self.telefone} e meu CPF é {self.cpf}.\"\n",
    "    \n",
    "\n",
    "class PessoaJuridica(Cliente):\n",
    "    def __init__(self, nome, telefone, cnpj):\n",
    "        super().__init__(nome, telefone)\n",
    "        self.cnpj = cnpj\n",
    "\n",
    "    def __str__(self):\n",
    "        return f\"Olá, meu nome é {self.nome}, meu telefone é {self.telefone} e meu CNPJ é {self.cnpj}.\"\n",
    "    \n",
    "\n",
    "pf = PessoaFisica(\"Ciro\", \"123\", \"123\")\n",
    "pj = PessoaJuridica(\"Ciro Enterprise\", \"456\", \"12345678\")\n",
    "\n",
    "print(pf)\n",
    "print(pj)"
   ]
  },
  {
   "cell_type": "markdown",
   "id": "96f9730d",
   "metadata": {},
   "source": [
    "## Sobrecarga \n",
    "é a capacidade de ter vários métodos com o mesmo nome dentro de uma mesma classe, mas com assinaturas diferentes (diferentes tipos, quantidade ou ordem de parâmetros)."
   ]
  },
  {
   "cell_type": "markdown",
   "id": "b758b738",
   "metadata": {},
   "source": [
    "### Exemplo em outras linguagens como java"
   ]
  },
  {
   "cell_type": "code",
   "execution_count": 8,
   "id": "bd0d3764",
   "metadata": {},
   "outputs": [
    {
     "ename": "TypeError",
     "evalue": "Calculadora.somar() missing 1 required positional argument: 'c'",
     "output_type": "error",
     "traceback": [
      "\u001b[31m---------------------------------------------------------------------------\u001b[39m",
      "\u001b[31mTypeError\u001b[39m                                 Traceback (most recent call last)",
      "\u001b[36mCell\u001b[39m\u001b[36m \u001b[39m\u001b[32mIn[8]\u001b[39m\u001b[32m, line 9\u001b[39m\n\u001b[32m      6\u001b[39m         \u001b[38;5;28;01mreturn\u001b[39;00m a + b + c\n\u001b[32m      8\u001b[39m calc = Calculadora()\n\u001b[32m----> \u001b[39m\u001b[32m9\u001b[39m \u001b[43mcalc\u001b[49m\u001b[43m.\u001b[49m\u001b[43msomar\u001b[49m\u001b[43m(\u001b[49m\u001b[32;43m2\u001b[39;49m\u001b[43m,\u001b[49m\u001b[43m \u001b[49m\u001b[32;43m3\u001b[39;49m\u001b[43m)\u001b[49m        \u001b[38;5;66;03m# Isso causará um erro\u001b[39;00m\n",
      "\u001b[31mTypeError\u001b[39m: Calculadora.somar() missing 1 required positional argument: 'c'"
     ]
    }
   ],
   "source": [
    "class Calculadora:\n",
    "    # forma que aprendi\n",
    "    def somar(self, a, b): \n",
    "        return a + b\n",
    "    def somar(self, a, b, c):\n",
    "        return a + b + c\n",
    "    \n",
    "calc = Calculadora()\n",
    "calc.somar(2, 3)        # Isso causará um erro"
   ]
  },
  {
   "cell_type": "markdown",
   "id": "75c566e9",
   "metadata": {},
   "source": [
    "### Exemplo funcional em Python"
   ]
  },
  {
   "cell_type": "code",
   "execution_count": 40,
   "id": "14fe388b",
   "metadata": {},
   "outputs": [
    {
     "data": {
      "text/plain": [
       "2"
      ]
     },
     "execution_count": 40,
     "metadata": {},
     "output_type": "execute_result"
    }
   ],
   "source": [
    "class Calculadora:\n",
    "    def somar(self, a, b=None, c=None):\n",
    "        if b is None and c is None:\n",
    "            return a\n",
    "        elif c is None:\n",
    "            return a + b\n",
    "        else:\n",
    "            return a + b + c\n",
    "\n",
    "calc = Calculadora()\n",
    "calc.somar(2)         # Saída: 2"
   ]
  },
  {
   "cell_type": "markdown",
   "id": "5dec5b41",
   "metadata": {},
   "source": [
    "### Exemplo para conjunto de entradas"
   ]
  },
  {
   "cell_type": "code",
   "execution_count": null,
   "id": "ecc4d03c",
   "metadata": {},
   "outputs": [
    {
     "name": "stdout",
     "output_type": "stream",
     "text": [
      "2\n",
      "5\n",
      "11\n"
     ]
    }
   ],
   "source": [
    "class Calculadora:\n",
    "    def somar(self, *args):\n",
    "        return sum(args)\n",
    "\n",
    "# ou \n",
    "# class Calculadora:\n",
    "#     def somar(self, *args):\n",
    "#         soma = 0\n",
    "#         for num in args:\n",
    "#             soma += num\n",
    "#         return soma\n",
    "    \n",
    "calc = Calculadora()\n",
    "print(calc.somar(2))            # Saída: 2\n",
    "print(calc.somar(2, 3))         # Saída: 5\n",
    "print(calc.somar(2, 3, 6))      # Saída: 11"
   ]
  },
  {
   "cell_type": "markdown",
   "id": "d812ed0a",
   "metadata": {},
   "source": [
    "## Herança e Sobrecarga\n",
    "Sim isso existe e é possível"
   ]
  },
  {
   "cell_type": "code",
   "execution_count": null,
   "id": "88c4ad6f",
   "metadata": {},
   "outputs": [
    {
     "name": "stdout",
     "output_type": "stream",
     "text": [
      "É um quadrado: \n",
      "('área', 25)\n"
     ]
    }
   ],
   "source": [
    "class Forma:\n",
    "    def area(self):\n",
    "        pass\n",
    "\n",
    "class Retangulo(Forma):\n",
    "    def __init__(self, largura, altura = None):\n",
    "        self.largura = largura\n",
    "        self.altura = largura if altura is None else altura # para ser um quadrado passaremos somente um parâmetro na construção do objeto\n",
    "        # mesma coisa que o código acima\n",
    "        # if altura is None:\n",
    "        #     self.altura = largura\n",
    "        #     self.largura = largura\n",
    "        # else:\n",
    "        #     self.largura = largura\n",
    "        #     self.altura = altura\n",
    "\n",
    "\n",
    "    def area(self): # método sobrescrito do pai\n",
    "        if self.largura == self.altura:\n",
    "            print(\"É um quadrado: \")\n",
    "        else:\n",
    "            print(\"É um retângulo: \")\n",
    "        return \"área\" , self.largura * self.altura\n",
    "    \n",
    "    \n",
    "form = Retangulo(5)\n",
    "print(form.area())  # Saída: 25"
   ]
  },
  {
   "cell_type": "markdown",
   "id": "99092320",
   "metadata": {},
   "source": [
    "# Exercícios"
   ]
  },
  {
   "cell_type": "markdown",
   "id": "8fde6b61",
   "metadata": {},
   "source": [
    "## EX1\n",
    "Crie uma hierarquia de classes para representar diferentes tipos de veículos:<br>\n",
    "Veículo: Classe base com atributos como marca, modelo e ano.<br>\n",
    "Carro: Classe derivada de Veículo com atributos específicos como numero_portas e tipo_combustivel.<br>\n",
    "Motocicleta: Classe derivada de Veículo com atributos específicos como cilindradas e tipo_moto.<br>\n",
    "Caminhão: Classe derivada de Veículo com atributos específicos como carga_maxima."
   ]
  },
  {
   "cell_type": "code",
   "execution_count": null,
   "id": "42c4ec5f",
   "metadata": {},
   "outputs": [
    {
     "name": "stdout",
     "output_type": "stream",
     "text": [
      "Carro: Toyota Corolla, Ano: 2020, Portas: 4, Combustível: Gasolina\n",
      "Motocicleta: Honda CB500, Ano: 2019, Cilindradas: 500, Tipo: Esportiva\n",
      "Caminhão: Volvo FH16, Ano: 2018, Carga Máxima: 20000 kg\n"
     ]
    }
   ],
   "source": [
    "class Veiculo:\n",
    "    def __init__(self, marca, modelo, ano):\n",
    "        self.marca = marca\n",
    "        self.modelo = modelo\n",
    "        self.ano = ano\n",
    "\n",
    "class Carro(Veiculo):\n",
    "    def __init__(self, marca, modelo, ano, numero_portas, tipo_combustivel):\n",
    "        super().__init__(marca, modelo, ano)\n",
    "        self.numero_portas = numero_portas\n",
    "        self.tipo_combustivel = tipo_combustivel\n",
    "\n",
    "class Motocicleta(Veiculo):\n",
    "    def __init__(self, marca, modelo, ano, cilindradas, tipo_moto):\n",
    "        super().__init__(marca, modelo, ano)\n",
    "        self.cilindradas = cilindradas\n",
    "        self.tipo_moto = tipo_moto\n",
    "\n",
    "class Caminhao(Veiculo):\n",
    "    def __init__(self, marca, modelo, ano, carga_maxima):\n",
    "        super().__init__(marca, modelo, ano)\n",
    "        self.carga_maxima = carga_maxima\n",
    "\n",
    "carro = Carro(\"Toyota\", \"Corolla\", 2020, 4, \"Gasolina\")\n",
    "moto = Motocicleta(\"Honda\", \"CB500\", 2019, 500, \"Esportiva\")\n",
    "caminhao = Caminhao(\"Volvo\", \"FH16\", 2018, 20000)\n",
    "\n",
    "print(f\"Carro: {carro.marca} {carro.modelo}, Ano: {carro.ano}, Portas: {carro.numero_portas}, Combustível: {carro.tipo_combustivel}\")\n",
    "print(f\"Motocicleta: {moto.marca} {moto.modelo}, Ano: {moto.ano}, Cilindradas: {moto.cilindradas}, Tipo: {moto.tipo_moto}\")\n",
    "print(f\"Caminhão: {caminhao.marca} {caminhao.modelo}, Ano: {caminhao.ano}, Carga Máxima: {caminhao.carga_maxima} kg\")\n"
   ]
  },
  {
   "cell_type": "markdown",
   "id": "68ce01c1",
   "metadata": {},
   "source": [
    "## EX2\n",
    "Crie uma hierarquia de classes para representar funcionários de uma empresa:<br>\n",
    "Funcionario: Classe base com atributos como nome, sobrenome e salario.<br>\n",
    "Gerente: Classe derivada de Funcionario com atributo adicional departamento.<br>\n",
    "Vendedor: Classe derivada de Funcionario com atributo adicional meta_de_vendas.<br>\n",
    "Desenvolvedor: Classe derivada de Funcionario com atributo adicional linguagens_programacao.<br>\n",
    "Deverá existir o método calcular_salario_total, que considera o salário do funcionário, a incidência de bônus fixo (adicional por qualificação) e de percentual extra (prêmio por desempenho). A assinatura do método deve ser:\n",
    "def calcular_salario_total(self, bonus_fixo=None, percentual_extra=None):\n"
   ]
  },
  {
   "cell_type": "code",
   "execution_count": 62,
   "id": "6701b3fe",
   "metadata": {},
   "outputs": [
    {
     "name": "stdout",
     "output_type": "stream",
     "text": [
      "Salário total do gerente: 6200.0\n",
      "Salário total do vendedor: 3250.0\n",
      "Salário total do desenvolvedor: 4430.0\n"
     ]
    }
   ],
   "source": [
    "class Funcionario:\n",
    "    def __init__(self, nome, sobrenome, salario):\n",
    "        self.nome = nome\n",
    "        self.sobrenome = sobrenome\n",
    "        self.salario = salario\n",
    "\n",
    "    def calcular_salario_total(self, bonus_fixo=None, percentual_extra=None):\n",
    "        total = self.salario\n",
    "        if bonus_fixo: # caso != None\n",
    "            total += bonus_fixo\n",
    "        if percentual_extra: # caso != None\n",
    "            total += self.salario * (percentual_extra / 100)\n",
    "        return total\n",
    "    \n",
    "class Gerente(Funcionario):\n",
    "    def __init__(self, nome, sobrenome, salario, departamento):\n",
    "        super().__init__(nome, sobrenome, salario)\n",
    "        self.departamento = departamento\n",
    "\n",
    "    def calcular_salario_total(self, bonus_fixo=None, percentual_extra=None):\n",
    "        total = super().calcular_salario_total(bonus_fixo, percentual_extra)\n",
    "        # Gerentes recebem um bônus de 500 pq SIM kkkk\n",
    "        total += 500\n",
    "        return total\n",
    "\n",
    "class Vendedor(Funcionario):\n",
    "    def __init__(self, nome, sobrenome, salario, meta_de_vendas):\n",
    "        super().__init__(nome, sobrenome, salario)\n",
    "        self.meta_de_vendas = meta_de_vendas\n",
    "\n",
    "class Desenvolvedor(Funcionario):\n",
    "    def __init__(self, nome, sobrenome, salario, linguagens_programacao):\n",
    "        super().__init__(nome, sobrenome, salario)\n",
    "        self.linguagens_programacao = []\n",
    "\n",
    "gerente = Gerente(\"Ciro\", \"GN\", 5000, \"Vendas\")\n",
    "vendedor = Vendedor(\"Eric\", \"AN\", 3000, 10000)\n",
    "desenvolvedor = Desenvolvedor(\"Algm\", \"desconhecido\", 4000, [\"Python\", \"Java\"])\n",
    "\n",
    "print(f\"Salário total do gerente: {gerente.calcular_salario_total(bonus_fixo=200, percentual_extra=10)}\")\n",
    "print(f\"Salário total do vendedor: {vendedor.calcular_salario_total(bonus_fixo=100, percentual_extra=5)}\")\n",
    "print(f\"Salário total do desenvolvedor: {desenvolvedor.calcular_salario_total(bonus_fixo=150, percentual_extra=7)}\")\n"
   ]
  }
 ],
 "metadata": {
  "kernelspec": {
   "display_name": "Python 3",
   "language": "python",
   "name": "python3"
  },
  "language_info": {
   "codemirror_mode": {
    "name": "ipython",
    "version": 3
   },
   "file_extension": ".py",
   "mimetype": "text/x-python",
   "name": "python",
   "nbconvert_exporter": "python",
   "pygments_lexer": "ipython3",
   "version": "3.13.2"
  }
 },
 "nbformat": 4,
 "nbformat_minor": 5
}
