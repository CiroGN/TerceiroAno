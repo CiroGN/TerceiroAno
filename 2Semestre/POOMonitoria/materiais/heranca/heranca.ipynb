{
 "cells": [
  {
   "cell_type": "markdown",
   "id": "f4ba09ea",
   "metadata": {},
   "source": [
    "# Herança"
   ]
  },
  {
   "cell_type": "code",
   "execution_count": null,
   "id": "7712cc8b",
   "metadata": {},
   "outputs": [],
   "source": []
  },
  {
   "cell_type": "markdown",
   "id": "2914e0c6",
   "metadata": {},
   "source": [
    "## Exemplo de herança"
   ]
  },
  {
   "cell_type": "code",
   "execution_count": 1,
   "id": "299b42db",
   "metadata": {},
   "outputs": [
    {
     "name": "stdout",
     "output_type": "stream",
     "text": [
      "Ciro está comendo\n",
      "Au Au\n",
      "Ciro está dormindo\n",
      "Idade:  8\n",
      "GN está comendo\n",
      "Miau\n",
      "GN está dormindo\n",
      "Idade:  10\n",
      "Piu está comendo\n",
      "Piu Piu\n",
      "Piu está dormindo\n",
      "Idade:  2\n"
     ]
    }
   ],
   "source": [
    "class Animal:\n",
    "    def __init__(self, nome, idade):\n",
    "        self.nome = nome\n",
    "        self.idade = idade\n",
    "\n",
    "    def comer(self):\n",
    "        print(f'{self.nome} está comendo')\n",
    "\n",
    "    def dormir(self):\n",
    "        print(f'{self.nome} está dormindo')\n",
    "\n",
    "class Cachorro(Animal):\n",
    "    def latir(self):\n",
    "        print(\"Au Au\")\n",
    "\n",
    "class Gato(Animal):\n",
    "    def miar(self):\n",
    "        print(\"Miau\")\n",
    "\n",
    "class Passaro(Animal):\n",
    "    def cantar(self):\n",
    "        print(\"Piu Piu\")\n",
    "\n",
    "k = Cachorro(\"Ciro\", 8)\n",
    "g = Gato(\"GN\", 10)\n",
    "p = Passaro(\"Piu\", 2)\n",
    "k.comer()\n",
    "k.latir()\n",
    "k.dormir()\n",
    "print(\"Idade: \", k.idade)\n",
    "g.comer()\n",
    "g.miar()\n",
    "g.dormir()\n",
    "print(\"Idade: \", g.idade)\n",
    "p.comer()\n",
    "p.cantar()\n",
    "p.dormir()\n",
    "print(\"Idade: \", p.idade)"
   ]
  },
  {
   "cell_type": "markdown",
   "id": "6b1f6632",
   "metadata": {},
   "source": [
    "## Loja de animais de estimação (Parte1)"
   ]
  },
  {
   "cell_type": "code",
   "execution_count": 6,
   "id": "3e071883",
   "metadata": {},
   "outputs": [
    {
     "name": "stdout",
     "output_type": "stream",
     "text": [
      "Ciro está comendo\n",
      "Au Au\n",
      "Ciro está dormindo\n",
      "Idade:  8\n",
      "GN está comendo\n",
      "Miau\n",
      "GN está dormindo\n",
      "False\n",
      "GN foi vacinado\n",
      "True\n",
      "Idade:  10\n"
     ]
    }
   ],
   "source": [
    "class Animal:\n",
    "    def __init__(self, nome, idade):\n",
    "        self.nome = nome\n",
    "        self.idade = idade\n",
    "        self.statusVacinal = False\n",
    "\n",
    "    def comer(self):\n",
    "        print(f'{self.nome} está comendo')\n",
    "\n",
    "    def dormir(self):\n",
    "        print(f'{self.nome} está dormindo')\n",
    "\n",
    "    def vacianar(self):\n",
    "        print(f'{self.nome} foi vacinado')\n",
    "        self.statusVacinal = True\n",
    "\n",
    "class Cachorro(Animal):\n",
    "    def latir(self):\n",
    "        print(\"Au Au\")\n",
    "\n",
    "class Gato(Animal):\n",
    "    def miar(self):\n",
    "        print(\"Miau\")\n",
    "\n",
    "\n",
    "k = Cachorro(\"Ciro\", 8)\n",
    "g = Gato(\"GN\", 10)\n",
    "k.comer()\n",
    "k.latir()\n",
    "k.dormir()\n",
    "print(\"Idade: \", k.idade)\n",
    "g.comer()\n",
    "g.miar()\n",
    "g.dormir()\n",
    "print(g.statusVacinal)\n",
    "g.vacianar()\n",
    "print(g.statusVacinal)\n",
    "print(\"Idade: \", g.idade)\n"
   ]
  },
  {
   "cell_type": "markdown",
   "id": "e947084a",
   "metadata": {},
   "source": [
    "## Loja de animais de estimação (Parte 2)"
   ]
  },
  {
   "cell_type": "code",
   "execution_count": 10,
   "id": "b6c5a997",
   "metadata": {},
   "outputs": [
    {
     "name": "stdout",
     "output_type": "stream",
     "text": [
      "CiroDog está comendo\n",
      "Au Au\n",
      "CiroDog está dormindo\n",
      "Idade:  8\n",
      "CiroCat está comendo\n",
      "Miau\n",
      "CiroCat está dormindo\n",
      "False\n",
      "CiroCat foi vacinado\n",
      "True\n",
      "Idade:  10\n"
     ]
    }
   ],
   "source": [
    "class Animal:\n",
    "    def __init__(self, nome, idade, cpf):\n",
    "        self.nome = nome\n",
    "        self.idade = idade\n",
    "        self.statusVacinal = False\n",
    "        selfcpf = cpf\n",
    "\n",
    "    def comer(self):\n",
    "        print(f'{self.nome} está comendo')\n",
    "\n",
    "    def dormir(self):\n",
    "        print(f'{self.nome} está dormindo')\n",
    "\n",
    "    def vacianar(self):\n",
    "        print(f'{self.nome} foi vacinado')\n",
    "        self.statusVacinal = True\n",
    "\n",
    "class Cachorro(Animal):\n",
    "    def latir(self):\n",
    "        print(\"Au Au\")\n",
    "\n",
    "class Gato(Animal):\n",
    "    def miar(self):\n",
    "        print(\"Miau\")\n",
    "\n",
    "class Cliente():\n",
    "    def __init__(self, nome, cpf):\n",
    "        self.nome = nome\n",
    "        self.cpf = cpf\n",
    "        self.animais = []\n",
    "    \n",
    "    def adicionarAnimal(self, animal):\n",
    "        self.animais.append(animal)\n",
    "        print(f'Animal {animal.nome} adicionado ao cliente {self.nome}')\n",
    "\n",
    "\n",
    "ciro = Cliente(\"Ciro\", \"123.456.789-00\")\n",
    "k = Cachorro(\"CiroDog\", 8, ciro)\n",
    "g = Gato(\"CiroCat\", 10, ciro)\n",
    "# ciro.adicionarAnimal(k)\n",
    "# ciro.adicionarAnimal(g)\n",
    "k.comer()\n",
    "k.latir()\n",
    "k.dormir()\n",
    "print(\"Idade: \", k.idade)\n",
    "g.comer()\n",
    "g.miar()\n",
    "g.dormir()\n",
    "print(g.statusVacinal)\n",
    "g.vacianar()\n",
    "print(g.statusVacinal)\n",
    "print(\"Idade: \", g.idade)\n"
   ]
  }
 ],
 "metadata": {
  "kernelspec": {
   "display_name": "Python 3",
   "language": "python",
   "name": "python3"
  },
  "language_info": {
   "codemirror_mode": {
    "name": "ipython",
    "version": 3
   },
   "file_extension": ".py",
   "mimetype": "text/x-python",
   "name": "python",
   "nbconvert_exporter": "python",
   "pygments_lexer": "ipython3",
   "version": "3.13.2"
  }
 },
 "nbformat": 4,
 "nbformat_minor": 5
}
