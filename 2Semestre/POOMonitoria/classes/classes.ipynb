{
 "cells": [
  {
   "cell_type": "markdown",
   "id": "b59e545a",
   "metadata": {},
   "source": [
    "# Classes"
   ]
  },
  {
   "cell_type": "markdown",
   "id": "20390db3",
   "metadata": {},
   "source": [
    "## Classe Carro Exemplo Básico"
   ]
  },
  {
   "cell_type": "code",
   "execution_count": 3,
   "id": "f6129ae1",
   "metadata": {},
   "outputs": [
    {
     "name": "stdout",
     "output_type": "stream",
     "text": [
      "0\n"
     ]
    }
   ],
   "source": [
    "class Carro: # Nome da classe em maiusculo por clean code\n",
    "    velocidade = 0 # atributo da classe\n",
    "\n",
    "carro1 = Carro # criando um objeto da classe chamado carro1\n",
    "\n",
    "print(carro1.velocidade) # printando o atributo do objeto carro1"
   ]
  },
  {
   "cell_type": "markdown",
   "id": "ac98496d",
   "metadata": {},
   "source": [
    "## Contrutor de uma classe"
   ]
  },
  {
   "cell_type": "code",
   "execution_count": 6,
   "id": "6afb76d9",
   "metadata": {},
   "outputs": [
    {
     "name": "stdout",
     "output_type": "stream",
     "text": [
      "3200\n",
      "1000\n",
      "0\n"
     ]
    }
   ],
   "source": [
    "class Carro:\n",
    "    def __init__(self, odometro):\n",
    "        self.odometro = odometro\n",
    "\n",
    "c1 = Carro(3200) # criando objeto ja com seu próprio valor de odometro\n",
    "c2 = Carro(1000)\n",
    "c3 = Carro(0)\n",
    "\n",
    "print(c1.odometro) # printando o atributo do objeto em questão\n",
    "print(c2.odometro)\n",
    "print(c3.odometro)\n"
   ]
  },
  {
   "cell_type": "markdown",
   "id": "99bef01c",
   "metadata": {},
   "source": [
    "## Construtor com função set() para alterar valores dos objetos"
   ]
  },
  {
   "cell_type": "code",
   "execution_count": 7,
   "id": "4a0d5342",
   "metadata": {},
   "outputs": [
    {
     "name": "stdout",
     "output_type": "stream",
     "text": [
      "3200\n",
      "4800\n"
     ]
    }
   ],
   "source": [
    "class Carro:\n",
    "    def __init__(self, odometro):\n",
    "        self.odometro = odometro\n",
    "    \n",
    "    def setOdometro(self,km):\n",
    "        self.odometro = km\n",
    "\n",
    "c1 = Carro(3200) # criando objeto ja com seu próprio valor de odometro\n",
    "print(c1.odometro) # printando o atributo do objeto em questão\n",
    "\n",
    "c1.setOdometro(4800)\n",
    "print(c1.odometro)"
   ]
  },
  {
   "cell_type": "markdown",
   "id": "2e5f6ff3",
   "metadata": {},
   "source": [
    "## Exemplo anterior mas com atributo de trocar oleo"
   ]
  },
  {
   "cell_type": "code",
   "execution_count": 67,
   "id": "5a26bffc",
   "metadata": {},
   "outputs": [
    {
     "name": "stdout",
     "output_type": "stream",
     "text": [
      "Necessáira a troca de óleo\n",
      "True\n",
      "Oleo trocado\n",
      "False\n",
      "Oleo em boas condições\n",
      "4800\n"
     ]
    }
   ],
   "source": [
    "class Carro:\n",
    "    trocarOleo = False\n",
    "    def __init__(self, odometro, trocarOleo):\n",
    "        self.odometro = odometro\n",
    "        self.trocarOleo = trocarOleo\n",
    "        if trocarOleo != False:\n",
    "            print(\"Necessáira a troca de óleo\")\n",
    "            self.trocarOleo = True\n",
    "\n",
    "    \n",
    "    def setOdometro(self, km):\n",
    "        self.odometro = km\n",
    "    \n",
    "    def setTrocaOleo(self, oleo):\n",
    "        self.trocarOleo = oleo\n",
    "\n",
    "    def verificaOleo(self):\n",
    "        if self.trocarOleo != False:\n",
    "            print(\"Oleo trocado\")\n",
    "            self.trocarOleo = False\n",
    "        else:\n",
    "            print(\"Oleo em boas condições\")\n",
    "\n",
    "c1 = Carro(3200, 1) # criando objeto ja com seu próprio valor de odometro\n",
    "print(c1.trocarOleo) # printando o atributo do objeto em questão\n",
    "c1.verificaOleo()\n",
    "print(c1.trocarOleo)\n",
    "c1.setTrocaOleo(0)\n",
    "c1.verificaOleo()\n",
    "\n",
    "c1.setOdometro(4800)\n",
    "print(c1.odometro)"
   ]
  }
 ],
 "metadata": {
  "kernelspec": {
   "display_name": "Python 3",
   "language": "python",
   "name": "python3"
  },
  "language_info": {
   "codemirror_mode": {
    "name": "ipython",
    "version": 3
   },
   "file_extension": ".py",
   "mimetype": "text/x-python",
   "name": "python",
   "nbconvert_exporter": "python",
   "pygments_lexer": "ipython3",
   "version": "3.13.2"
  }
 },
 "nbformat": 4,
 "nbformat_minor": 5
}
