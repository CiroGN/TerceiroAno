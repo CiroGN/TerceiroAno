{
 "cells": [
  {
   "cell_type": "markdown",
   "id": "b59e545a",
   "metadata": {},
   "source": [
    "# Classes"
   ]
  },
  {
   "cell_type": "markdown",
   "id": "20390db3",
   "metadata": {},
   "source": [
    "## Classe Carro Exemplo Básico"
   ]
  },
  {
   "cell_type": "code",
   "execution_count": 3,
   "id": "f6129ae1",
   "metadata": {},
   "outputs": [
    {
     "name": "stdout",
     "output_type": "stream",
     "text": [
      "0\n"
     ]
    }
   ],
   "source": [
    "class Carro: # Nome da classe em maiusculo por clean code\n",
    "    velocidade = 0 # atributo da classe\n",
    "\n",
    "carro1 = Carro # criando um objeto da classe chamado carro1\n",
    "\n",
    "print(carro1.velocidade) # printando o atributo do objeto carro1"
   ]
  },
  {
   "cell_type": "markdown",
   "id": "ac98496d",
   "metadata": {},
   "source": [
    "## Contrutor de uma classe"
   ]
  },
  {
   "cell_type": "code",
   "execution_count": 6,
   "id": "6afb76d9",
   "metadata": {},
   "outputs": [
    {
     "name": "stdout",
     "output_type": "stream",
     "text": [
      "3200\n",
      "1000\n",
      "0\n"
     ]
    }
   ],
   "source": [
    "class Carro:\n",
    "    def __init__(self, odometro):\n",
    "        self.odometro = odometro\n",
    "\n",
    "c1 = Carro(3200) # criando objeto ja com seu próprio valor de odometro\n",
    "c2 = Carro(1000)\n",
    "c3 = Carro(0)\n",
    "\n",
    "print(c1.odometro) # printando o atributo do objeto em questão\n",
    "print(c2.odometro)\n",
    "print(c3.odometro)\n"
   ]
  },
  {
   "cell_type": "markdown",
   "id": "99bef01c",
   "metadata": {},
   "source": [
    "## Construtor com função set() para alterar valores dos objetos"
   ]
  },
  {
   "cell_type": "code",
   "execution_count": 7,
   "id": "4a0d5342",
   "metadata": {},
   "outputs": [
    {
     "name": "stdout",
     "output_type": "stream",
     "text": [
      "3200\n",
      "4800\n"
     ]
    }
   ],
   "source": [
    "class Carro:\n",
    "    def __init__(self, odometro):\n",
    "        self.odometro = odometro\n",
    "    \n",
    "    def setOdometro(self,km):\n",
    "        self.odometro = km\n",
    "\n",
    "c1 = Carro(3200) # criando objeto ja com seu próprio valor de odometro\n",
    "print(c1.odometro) # printando o atributo do objeto em questão\n",
    "\n",
    "c1.setOdometro(4800)\n",
    "print(c1.odometro)"
   ]
  },
  {
   "cell_type": "markdown",
   "id": "2e5f6ff3",
   "metadata": {},
   "source": [
    "## Exemplo anterior mas com atributo de trocar oleo"
   ]
  },
  {
   "cell_type": "code",
   "execution_count": 7,
   "id": "5a26bffc",
   "metadata": {},
   "outputs": [
    {
     "name": "stdout",
     "output_type": "stream",
     "text": [
      "False\n",
      "Oleo em boas condições\n",
      "False\n",
      "Oleo em boas condições\n"
     ]
    }
   ],
   "source": [
    "class Carro: # criacao da classe\n",
    "    trocarOleo = False # atributo de troca de oleo: False - não precisa trocar; True - precisa trocar\n",
    "    def __init__(self, odometro): # construtor da classe\n",
    "        self.odometro = odometro\n",
    "        self.trocarOleo = False\n",
    "        self.ultimaTroca = odometro\n",
    "\n",
    "    \n",
    "    def setOdometro(self, km): # funcao para alteracao do valor do atributo do objeto\n",
    "        if km + self.ultimaTroca >= 5000:\n",
    "            self.setTrocaOleo(True)\n",
    "        self.odometro = km\n",
    "    \n",
    "    def setTrocaOleo(self, status):\n",
    "        self.trocarOleo = status\n",
    "\n",
    "    def verificaOleo(self): # funcao que verifica o estado do atributo \"trocarOleo\" e altera ele\n",
    "        if self.trocarOleo != False: # caso oleo precise ser trocado, ele troca\n",
    "            print(\"Oleo trocado\")\n",
    "            self.trocarOleo = False\n",
    "        else: # caso oleo bom, nao troca o oleo\n",
    "            print(\"Oleo em boas condições\")\n",
    "\n",
    "c1 = Carro(3200) # criando objeto ja com seu próprio valor de odometro e \n",
    "print(c1.trocarOleo) # printando o atributo do objeto em questão\n",
    "c1.verificaOleo() # verifica se precisa trocar oleo, neste caso troca, pois objeto precisa\n",
    "print(c1.trocarOleo)\n",
    "c1.verificaOleo()\n",
    "c1.setOdometro(10000)\n"
   ]
  },
  {
   "cell_type": "markdown",
   "id": "2d9c2ce1",
   "metadata": {},
   "source": [
    "## Classe Carro com mais tributos e get()"
   ]
  },
  {
   "cell_type": "code",
   "execution_count": 8,
   "id": "babb2be6",
   "metadata": {},
   "outputs": [
    {
     "name": "stdout",
     "output_type": "stream",
     "text": [
      "Marca: Coisa \n",
      "Modelo: tal \n",
      "Placa: 123 \n",
      "Cor: todas as cores\n"
     ]
    }
   ],
   "source": [
    "class Carro:\n",
    "    \n",
    "    def __init__(self, marca, modelo, placa, cor):\n",
    "        self.marca = marca\n",
    "        self.modelo = modelo\n",
    "        self.placa = placa\n",
    "        self.cor = cor\n",
    "    \n",
    "    def setMarca(self, marca):\n",
    "        self.marca = marca\n",
    "    def setModelo(self, modelo):\n",
    "        self.modelo = modelo\n",
    "    def setPlaca(self, placa):\n",
    "        self.placa = placa\n",
    "    def setCor(self, cor):\n",
    "        self.cor = cor\n",
    "    def getInformacoes(self):\n",
    "        print(f\"Marca: {self.marca} \\nModelo: {self.modelo} \\nPlaca: {self.placa} \\nCor: {self.cor}\")\n",
    "        \n",
    "        # opcao não ideal\n",
    "        # return self.marca, self.modelo, self.placa, self.cor\n",
    "\n",
    "             # marca, modelo, placa, cor\n",
    "carro = Carro(\"Coisa\", \"tal\", \"123\", \"todas as cores\" )\n",
    "carro.getInformacoes()  "
   ]
  },
  {
   "cell_type": "markdown",
   "id": "6132331e",
   "metadata": {},
   "source": [
    "## Exercicio final da aula de classes"
   ]
  },
  {
   "cell_type": "code",
   "execution_count": 13,
   "id": "781e661d",
   "metadata": {},
   "outputs": [
    {
     "name": "stdout",
     "output_type": "stream",
     "text": [
      "Marca:  marca \n",
      "Modelo:  modelo \n",
      "Placa:  placa \n",
      "Cor:  cor \n",
      "Odometro do veículo:  0\n",
      "400\n",
      "457\n"
     ]
    }
   ],
   "source": [
    "class Carro:\n",
    "    def __init__(self, marca, modelo, placa, cor, odometro = 0):\n",
    "        self.marca = marca\n",
    "        self.modelo = modelo\n",
    "        self.placa = placa\n",
    "        self.cor = cor\n",
    "        self.odometro = odometro\n",
    "    \n",
    "    # métodos sets\n",
    "    def setMarca(self, marca):\n",
    "        self.marca = marca\n",
    "    def setModelo(self, modelo):\n",
    "        self.modelo = modelo\n",
    "    def setPlaca(self, placa):\n",
    "        self.placa = placa\n",
    "    def setCor(self, cor):\n",
    "        self.cor = cor\n",
    "    def setOdometro(self, odometro): # set que verifica se o valor inserido é maior que o atual do objeto\n",
    "        if self.odometro > odometro:\n",
    "            while True:\n",
    "                odometro = int(input(\"Valor de odômetro inválido, digite um novo que seja maior que o antigo\"))\n",
    "                if odometro > self.odometro:\n",
    "                    self.odometro = odometro\n",
    "                    break\n",
    "        else:\n",
    "            self.odometro = odometro\n",
    "\n",
    "    # métodos gets\n",
    "    def getMarca(self):\n",
    "        return self.marca\n",
    "    def getModelo(self):\n",
    "        return self.modelo\n",
    "    def getPlaca(self):\n",
    "        return self.placa\n",
    "    def getCor(self):\n",
    "        return self.cor\n",
    "    def getOdometro(self):\n",
    "        return self.odometro\n",
    "\n",
    "    def getInfo(self):\n",
    "        print(\"Marca: \", self.getMarca(), \"\\nModelo: \", self.getModelo(), \"\\nPlaca: \",\n",
    "              self.getPlaca(), \"\\nCor: \", self.getCor(), \"\\nOdometro do veículo: \", self.getOdometro())\n",
    "        \n",
    "carro = Carro(\"marca\", \"modelo\", \"placa\", \"cor\")\n",
    "carro.getInfo()\n",
    "carro.setOdometro(400)\n",
    "print(carro.getOdometro())\n",
    "carro.setOdometro(457)\n",
    "print(carro.getOdometro())\n"
   ]
  },
  {
   "cell_type": "code",
   "execution_count": 7,
   "id": "e31f4f79",
   "metadata": {},
   "outputs": [
    {
     "name": "stdout",
     "output_type": "stream",
     "text": [
      "Marca:  rgfdetg \n",
      "Modelo:  serfswer \n",
      "Placa:  rsgtfwsr \n",
      "Cor:  esdrfswe \n",
      "Odometro do veículo:  0 \n",
      "\n",
      "Marca:  rgewst \n",
      "Modelo:  ewrfwserf \n",
      "Placa:  gerdtg \n",
      "Cor:  eswrfwse \n",
      "Odometro do veículo:  0 \n",
      "\n",
      "\n",
      "Carro1\n",
      "Marca:  rgfdetg \n",
      "Modelo:  serfswer \n",
      "Placa:  rsgtfwsr \n",
      "Cor:  esdrfswe \n",
      "Odometro do veículo:  0 \n",
      "\n",
      "\n",
      "Carro2\n",
      "Marca:  rgewst \n",
      "Modelo:  ewrfwserf \n",
      "Placa:  gerdtg \n",
      "Cor:  eswrfwse \n",
      "Odometro do veículo:  0 \n",
      "\n",
      "Encerando programa\n"
     ]
    }
   ],
   "source": [
    "class Carro:\n",
    "    def __init__(self, marca, modelo, placa, cor,):\n",
    "        self.marca = marca\n",
    "        self.modelo = modelo\n",
    "        self.placa = placa\n",
    "        self.cor = cor\n",
    "        self.odometro = 0\n",
    "    \n",
    "    # métodos sets\n",
    "    def setMarca(self, marca):\n",
    "        self.marca = marca\n",
    "    def setModelo(self, modelo):\n",
    "        self.modelo = modelo\n",
    "    def setPlaca(self, placa):\n",
    "        self.placa = placa\n",
    "    def setCor(self, cor):\n",
    "        self.cor = cor\n",
    "    def setOdometro(self, odometro): # set que verifica se o valor inserido é maior que o atual do objeto\n",
    "        if self.odometro > odometro:\n",
    "            while True:\n",
    "                odometro = int(input(\"Valor de odômetro inválido, digite um novo que seja maior que o antigo\"))\n",
    "                if odometro > self.odometro:\n",
    "                    self.odometro = odometro\n",
    "                    break\n",
    "        else:\n",
    "            self.odometro = odometro\n",
    "\n",
    "    # métodos gets\n",
    "    def getMarca(self):\n",
    "        return self.marca\n",
    "    def getModelo(self):\n",
    "        return self.modelo\n",
    "    def getPlaca(self):\n",
    "        return self.placa\n",
    "    def getCor(self):\n",
    "        return self.cor\n",
    "    def getOdometro(self):\n",
    "        return self.odometro\n",
    "\n",
    "    def getInfo(self):\n",
    "        print(\"Marca: \", self.getMarca(), \"\\nModelo: \", self.getModelo(), \"\\nPlaca: \",\n",
    "              self.getPlaca(), \"\\nCor: \", self.getCor(), \"\\nOdometro do veículo: \", self.getOdometro(), \"\\n\")\n",
    "\n",
    "carros = []\n",
    "i = 1\n",
    "while True:\n",
    "\n",
    "    opcao = input(\"Encerrar o programa - 0 | Criar um carro - 1 | Exibir informações de um carro - 2\")\n",
    "    match opcao:\n",
    "        case \"0\":\n",
    "            print(\"Encerando programa\")\n",
    "            break\n",
    "        case \"1\":\n",
    "            while True:\n",
    "                marca = input(\"Digite a marca do carro\")\n",
    "                modelo = input(\"Digite o modelo do carro\")\n",
    "                placa = input(\"Digite a placa do carro\")\n",
    "                cor = input(\"Digite a cor do carro\")\n",
    "                carro = Carro(marca, modelo, placa, cor)\n",
    "                carros.append(carro)\n",
    "                carro.getInfo()\n",
    "                i += 1\n",
    "                continuar = input(\"Cadastrar outro carro? (s|n): \")\n",
    "                if continuar != \"s\":\n",
    "                    break\n",
    "        case \"2\":\n",
    "            for j, c in enumerate(carros, start=1):\n",
    "                print(f\"\\nCarro{j}\")\n",
    "                c.getInfo()\n",
    "        case _:\n",
    "            print(\"opção inválida\")\n",
    "\n",
    "            \n",
    "    \n"
   ]
  }
 ],
 "metadata": {
  "kernelspec": {
   "display_name": "Python 3",
   "language": "python",
   "name": "python3"
  },
  "language_info": {
   "codemirror_mode": {
    "name": "ipython",
    "version": 3
   },
   "file_extension": ".py",
   "mimetype": "text/x-python",
   "name": "python",
   "nbconvert_exporter": "python",
   "pygments_lexer": "ipython3",
   "version": "3.13.2"
  }
 },
 "nbformat": 4,
 "nbformat_minor": 5
}
