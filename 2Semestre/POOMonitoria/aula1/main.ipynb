{
 "cells": [
  {
   "cell_type": "markdown",
   "id": "37273cf4",
   "metadata": {},
   "source": [
    "## Oi tudo bem?\n"
   ]
  },
  {
   "cell_type": "code",
   "execution_count": 28,
   "id": "ca952bce",
   "metadata": {},
   "outputs": [
    {
     "ename": "KeyboardInterrupt",
     "evalue": "Interrupted by user",
     "output_type": "error",
     "traceback": [
      "\u001b[31m---------------------------------------------------------------------------\u001b[39m",
      "\u001b[31mKeyboardInterrupt\u001b[39m                         Traceback (most recent call last)",
      "\u001b[36mCell\u001b[39m\u001b[36m \u001b[39m\u001b[32mIn[28]\u001b[39m\u001b[32m, line 1\u001b[39m\n\u001b[32m----> \u001b[39m\u001b[32m1\u001b[39m nome = \u001b[38;5;28;43minput\u001b[39;49m\u001b[43m(\u001b[49m\u001b[38;5;28;43mstr\u001b[39;49m\u001b[43m(\u001b[49m\u001b[33;43m\"\u001b[39;49m\u001b[33;43mDigite o nome: \u001b[39;49m\u001b[33;43m\"\u001b[39;49m\u001b[43m)\u001b[49m\u001b[43m)\u001b[49m \n\u001b[32m      2\u001b[39m sobrenome = \u001b[38;5;28minput\u001b[39m(\u001b[38;5;28mstr\u001b[39m(\u001b[33m\"\u001b[39m\u001b[33mDigite o sobrenome: \u001b[39m\u001b[33m\"\u001b[39m))\n\u001b[32m      3\u001b[39m \u001b[38;5;28mprint\u001b[39m(nome + \u001b[33m\"\u001b[39m\u001b[33m \u001b[39m\u001b[33m\"\u001b[39m + sobrenome)\n",
      "\u001b[36mFile \u001b[39m\u001b[32m~\\AppData\\Roaming\\Python\\Python313\\site-packages\\ipykernel\\kernelbase.py:1275\u001b[39m, in \u001b[36mKernel.raw_input\u001b[39m\u001b[34m(self, prompt)\u001b[39m\n\u001b[32m   1273\u001b[39m     msg = \u001b[33m\"\u001b[39m\u001b[33mraw_input was called, but this frontend does not support input requests.\u001b[39m\u001b[33m\"\u001b[39m\n\u001b[32m   1274\u001b[39m     \u001b[38;5;28;01mraise\u001b[39;00m StdinNotImplementedError(msg)\n\u001b[32m-> \u001b[39m\u001b[32m1275\u001b[39m \u001b[38;5;28;01mreturn\u001b[39;00m \u001b[38;5;28;43mself\u001b[39;49m\u001b[43m.\u001b[49m\u001b[43m_input_request\u001b[49m\u001b[43m(\u001b[49m\n\u001b[32m   1276\u001b[39m \u001b[43m    \u001b[49m\u001b[38;5;28;43mstr\u001b[39;49m\u001b[43m(\u001b[49m\u001b[43mprompt\u001b[49m\u001b[43m)\u001b[49m\u001b[43m,\u001b[49m\n\u001b[32m   1277\u001b[39m \u001b[43m    \u001b[49m\u001b[38;5;28;43mself\u001b[39;49m\u001b[43m.\u001b[49m\u001b[43m_parent_ident\u001b[49m\u001b[43m[\u001b[49m\u001b[33;43m\"\u001b[39;49m\u001b[33;43mshell\u001b[39;49m\u001b[33;43m\"\u001b[39;49m\u001b[43m]\u001b[49m\u001b[43m,\u001b[49m\n\u001b[32m   1278\u001b[39m \u001b[43m    \u001b[49m\u001b[38;5;28;43mself\u001b[39;49m\u001b[43m.\u001b[49m\u001b[43mget_parent\u001b[49m\u001b[43m(\u001b[49m\u001b[33;43m\"\u001b[39;49m\u001b[33;43mshell\u001b[39;49m\u001b[33;43m\"\u001b[39;49m\u001b[43m)\u001b[49m\u001b[43m,\u001b[49m\n\u001b[32m   1279\u001b[39m \u001b[43m    \u001b[49m\u001b[43mpassword\u001b[49m\u001b[43m=\u001b[49m\u001b[38;5;28;43;01mFalse\u001b[39;49;00m\u001b[43m,\u001b[49m\n\u001b[32m   1280\u001b[39m \u001b[43m\u001b[49m\u001b[43m)\u001b[49m\n",
      "\u001b[36mFile \u001b[39m\u001b[32m~\\AppData\\Roaming\\Python\\Python313\\site-packages\\ipykernel\\kernelbase.py:1320\u001b[39m, in \u001b[36mKernel._input_request\u001b[39m\u001b[34m(self, prompt, ident, parent, password)\u001b[39m\n\u001b[32m   1317\u001b[39m \u001b[38;5;28;01mexcept\u001b[39;00m \u001b[38;5;167;01mKeyboardInterrupt\u001b[39;00m:\n\u001b[32m   1318\u001b[39m     \u001b[38;5;66;03m# re-raise KeyboardInterrupt, to truncate traceback\u001b[39;00m\n\u001b[32m   1319\u001b[39m     msg = \u001b[33m\"\u001b[39m\u001b[33mInterrupted by user\u001b[39m\u001b[33m\"\u001b[39m\n\u001b[32m-> \u001b[39m\u001b[32m1320\u001b[39m     \u001b[38;5;28;01mraise\u001b[39;00m \u001b[38;5;167;01mKeyboardInterrupt\u001b[39;00m(msg) \u001b[38;5;28;01mfrom\u001b[39;00m\u001b[38;5;250m \u001b[39m\u001b[38;5;28;01mNone\u001b[39;00m\n\u001b[32m   1321\u001b[39m \u001b[38;5;28;01mexcept\u001b[39;00m \u001b[38;5;167;01mException\u001b[39;00m:\n\u001b[32m   1322\u001b[39m     \u001b[38;5;28mself\u001b[39m.log.warning(\u001b[33m\"\u001b[39m\u001b[33mInvalid Message:\u001b[39m\u001b[33m\"\u001b[39m, exc_info=\u001b[38;5;28;01mTrue\u001b[39;00m)\n",
      "\u001b[31mKeyboardInterrupt\u001b[39m: Interrupted by user"
     ]
    }
   ],
   "source": [
    "nome = input(str(\"Digite o nome: \")) \n",
    "sobrenome = input(str(\"Digite o sobrenome: \"))\n",
    "print(nome + \" \" + sobrenome)"
   ]
  },
  {
   "cell_type": "markdown",
   "id": "c935c9de",
   "metadata": {},
   "source": [
    "## Testes de python"
   ]
  },
  {
   "cell_type": "code",
   "execution_count": null,
   "id": "9fa7b5d3",
   "metadata": {},
   "outputs": [
    {
     "name": "stdout",
     "output_type": "stream",
     "text": [
      "Resultado 6.0\n",
      "Resultado dividido: 3.0\n"
     ]
    }
   ],
   "source": [
    "n1 = float(input(\"Digite o primeiro valor\"))\n",
    "n2 = float(input(\"Digite o segundo valor\"))\n",
    "soma = n1 + n2\n",
    "print(\"Resultado\", soma)\n",
    "print(\"Resultado dividido:\", soma/2)"
   ]
  },
  {
   "cell_type": "markdown",
   "id": "cc7257de",
   "metadata": {},
   "source": [
    "## Desvios Condicionais"
   ]
  },
  {
   "cell_type": "code",
   "execution_count": null,
   "id": "9c913bd3",
   "metadata": {},
   "outputs": [
    {
     "name": "stdout",
     "output_type": "stream",
     "text": [
      "O numero é:  20.0\n"
     ]
    }
   ],
   "source": [
    "numero = float(input(\"Digite um numero: \"))\n",
    "if numero < 10 or numero > 20:\n",
    "    print(\"por favor, digite um maior que 10 e menor que 20\")\n",
    "else:\n",
    "    print(\"O numero é: \", numero)\n",
    " "
   ]
  },
  {
   "cell_type": "markdown",
   "id": "ffda9f08",
   "metadata": {},
   "source": [
    "## Calculadora"
   ]
  },
  {
   "cell_type": "code",
   "execution_count": null,
   "id": "7aa925a6",
   "metadata": {},
   "outputs": [
    {
     "name": "stdout",
     "output_type": "stream",
     "text": [
      "Resultado:  2.0   /   4.0 Resultado:  0.5\n"
     ]
    }
   ],
   "source": [
    "operacao = input(\"Digite uma destas operacoes ( +, -, *, /): \")\n",
    "num1 = float(input(\"Digite o primeiro valor: \"))\n",
    "num2 = float(input(\"Digite o segundo valor: \"))\n",
    "\n",
    "match operacao:\n",
    "    case \"+\":\n",
    "        resultado = num1 + num2\n",
    "    case \"-\":\n",
    "        resultado = num1 - num2\n",
    "    case \"/\":\n",
    "        if num2 == 0:\n",
    "            print(\"não pode ser dividido por 0\")\n",
    "        else:\n",
    "            resultado = num1 / num2\n",
    "    case \"*\":\n",
    "        resultado = num1 * num2\n",
    "    case _:\n",
    "        print(\"Operacao invalida\") \n",
    "\n",
    "if operacao in \"+-*/\":\n",
    "    print(\"Resultado: \", num1, \" \", operacao, \" \", num2, \"Resultado: \", resultado)"
   ]
  },
  {
   "cell_type": "markdown",
   "id": "112025b5",
   "metadata": {},
   "source": [
    "## Par ou impar"
   ]
  },
  {
   "cell_type": "code",
   "execution_count": null,
   "id": "f91fc6e4",
   "metadata": {},
   "outputs": [
    {
     "name": "stdout",
     "output_type": "stream",
     "text": [
      "Valor 0 é par\n"
     ]
    }
   ],
   "source": [
    "n1 = int(input(\"Digite um valor\"))\n",
    "\n",
    "if n1 % 2 == 0:\n",
    "    print(\"Valor\", n1, \"é par\")\n",
    "if n1 % 2 != 0:    \n",
    "    print(\"Valor\", n1, \"é ímpar\")"
   ]
  },
  {
   "cell_type": "markdown",
   "id": "8e8e5f4f",
   "metadata": {},
   "source": [
    "## Loops"
   ]
  },
  {
   "cell_type": "code",
   "execution_count": null,
   "id": "1aeddf35",
   "metadata": {},
   "outputs": [
    {
     "name": "stdout",
     "output_type": "stream",
     "text": [
      "0\n",
      "1\n",
      "2\n",
      "3\n",
      "4\n"
     ]
    }
   ],
   "source": [
    "contador = 0\n",
    "while contador < 5:\n",
    "    print(contador)\n",
    "    contador += 1"
   ]
  },
  {
   "cell_type": "code",
   "execution_count": null,
   "id": "31851219",
   "metadata": {},
   "outputs": [
    {
     "name": "stdout",
     "output_type": "stream",
     "text": [
      "oi\n",
      "fala\n",
      "blz?\n",
      "tchau\n"
     ]
    }
   ],
   "source": [
    "frutas = ['oi','fala','blz?','tchau' ]\n",
    "for fruta in frutas:\n",
    "    print(fruta)"
   ]
  },
  {
   "cell_type": "code",
   "execution_count": null,
   "id": "e8b1ad73",
   "metadata": {},
   "outputs": [
    {
     "name": "stdout",
     "output_type": "stream",
     "text": [
      "1\n",
      "3\n",
      "5\n",
      "7\n",
      "9\n",
      "11\n",
      "13\n"
     ]
    }
   ],
   "source": [
    "for i in range(20):\n",
    "    if i == 15:\n",
    "        break\n",
    "    if i % 2 == 0:\n",
    "        continue\n",
    "    print(i)"
   ]
  },
  {
   "cell_type": "markdown",
   "id": "ce50ff00",
   "metadata": {},
   "source": [
    "### Caixa eletronico"
   ]
  },
  {
   "cell_type": "code",
   "execution_count": 33,
   "id": "aa1a6416",
   "metadata": {},
   "outputs": [
    {
     "name": "stdout",
     "output_type": "stream",
     "text": [
      "Saldo disponivel:  1000\n",
      "Saque invalido\n"
     ]
    }
   ],
   "source": [
    "saldo = 1000\n",
    "print(\"Saldo disponivel: \", saldo)\n",
    "saque = int(input(\"Digite o valor a ser sacado\"))\n",
    "\n",
    "if saque > saldo:\n",
    "    print(\"Saque maior que o valor de saldo\")\n",
    "while saldo >= saque:\n",
    "    if saque % 10 != 0:\n",
    "        print(\"Saque invalido\")\n",
    "        break\n",
    "    else:\n",
    "        print(\"Saque válido, retirando\", saque)\n",
    "        saldo -= saque\n",
    "        print(saldo)\n",
    "        break"
   ]
  },
  {
   "cell_type": "markdown",
   "id": "3825f8ef",
   "metadata": {},
   "source": [
    "## Vetores"
   ]
  },
  {
   "cell_type": "code",
   "execution_count": 38,
   "id": "68290e43",
   "metadata": {},
   "outputs": [
    {
     "name": "stdout",
     "output_type": "stream",
     "text": [
      "[]\n",
      "['Ciro']\n",
      "['Ciro', 'Outro']\n"
     ]
    }
   ],
   "source": [
    "alunos = []\n",
    "\n",
    "len(alunos)\n",
    "print(alunos)\n",
    "alunos.append(\"Ciro\")\n",
    "len(alunos)\n",
    "print(alunos)\n",
    "alunos.append(\"Outro\")\n",
    "len(alunos)\n",
    "print(alunos)"
   ]
  }
 ],
 "metadata": {
  "kernelspec": {
   "display_name": "Python 3",
   "language": "python",
   "name": "python3"
  },
  "language_info": {
   "codemirror_mode": {
    "name": "ipython",
    "version": 3
   },
   "file_extension": ".py",
   "mimetype": "text/x-python",
   "name": "python",
   "nbconvert_exporter": "python",
   "pygments_lexer": "ipython3",
   "version": "3.13.2"
  }
 },
 "nbformat": 4,
 "nbformat_minor": 5
}
