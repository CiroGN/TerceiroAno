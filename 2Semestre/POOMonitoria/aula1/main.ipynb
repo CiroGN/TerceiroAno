{
 "cells": [
  {
   "cell_type": "markdown",
   "id": "37273cf4",
   "metadata": {},
   "source": [
    "## Oi tudo bem?\n"
   ]
  },
  {
   "cell_type": "code",
   "execution_count": 17,
   "id": "ca952bce",
   "metadata": {},
   "outputs": [
    {
     "name": "stdout",
     "output_type": "stream",
     "text": [
      "ciro nass\n"
     ]
    }
   ],
   "source": [
    "nome = input(str(\"Digite o nome: \")) \n",
    "sobrenome = input(str(\"Digite o sobrenome: \"))\n",
    "print(nome + \" \" + sobrenome)"
   ]
  },
  {
   "cell_type": "markdown",
   "id": "c935c9de",
   "metadata": {},
   "source": [
    "## Testes de python"
   ]
  },
  {
   "cell_type": "code",
   "execution_count": 5,
   "id": "9fa7b5d3",
   "metadata": {},
   "outputs": [
    {
     "name": "stdout",
     "output_type": "stream",
     "text": [
      "Resultado 6.0\n",
      "Resultado dividido: 3.0\n"
     ]
    }
   ],
   "source": [
    "n1 = float(input(\"Digite o primeiro valor\"))\n",
    "n2 = float(input(\"Digite o segundo valor\"))\n",
    "soma = n1 + n2\n",
    "print(\"Resultado\", soma)\n",
    "print(\"Resultado dividido:\", soma/2)"
   ]
  },
  {
   "cell_type": "markdown",
   "id": "cc7257de",
   "metadata": {},
   "source": [
    "## Desvios Condicionais"
   ]
  },
  {
   "cell_type": "code",
   "execution_count": null,
   "id": "9c913bd3",
   "metadata": {},
   "outputs": [
    {
     "name": "stdout",
     "output_type": "stream",
     "text": [
      "O numero é:  20.0\n"
     ]
    }
   ],
   "source": [
    "numero = float(input(\"Digite um numero: \"))\n",
    "if numero < 10 or numero > 20:\n",
    "    print(\"por favor, digite um maior que 10 e menor que 20\")\n",
    "else:\n",
    "    print(\"O numero é: \", numero)\n",
    " "
   ]
  },
  {
   "cell_type": "markdown",
   "id": "ffda9f08",
   "metadata": {},
   "source": [
    "## Calculadora"
   ]
  },
  {
   "cell_type": "code",
   "execution_count": 27,
   "id": "7aa925a6",
   "metadata": {},
   "outputs": [
    {
     "name": "stdout",
     "output_type": "stream",
     "text": [
      "Resultado:  2.0   /   4.0 Resultado:  0.5\n"
     ]
    }
   ],
   "source": [
    "operacao = input(\"Digite uma destas operacoes ( +, -, *, /): \")\n",
    "num1 = float(input(\"Digite o primeiro valor: \"))\n",
    "num2 = float(input(\"Digite o segundo valor: \"))\n",
    "\n",
    "match operacao:\n",
    "    case \"+\":\n",
    "        resultado = num1 + num2\n",
    "    case \"-\":\n",
    "        resultado = num1 - num2\n",
    "    case \"/\":\n",
    "        if num2 == 0:\n",
    "            print(\"não pode ser dividido por 0\")\n",
    "        else:\n",
    "            resultado = num1 / num2\n",
    "    case \"*\":\n",
    "        resultado = num1 * num2\n",
    "    case _:\n",
    "        print(\"Operacao invalida\") \n",
    "\n",
    "if operacao in \"+-*/\":\n",
    "    print(\"Resultado: \", num1, \" \", operacao, \" \", num2, \"Resultado: \", resultado)"
   ]
  },
  {
   "cell_type": "markdown",
   "id": "112025b5",
   "metadata": {},
   "source": [
    "## Par ou impar"
   ]
  },
  {
   "cell_type": "code",
   "execution_count": 37,
   "id": "f91fc6e4",
   "metadata": {},
   "outputs": [
    {
     "name": "stdout",
     "output_type": "stream",
     "text": [
      "Valor 0 é par\n"
     ]
    }
   ],
   "source": [
    "n1 = int(input(\"Digite um valor\"))\n",
    "\n",
    "if n1 % 2 == 0:\n",
    "    print(\"Valor\", n1, \"é par\")\n",
    "if n1 % 2 != 0:    \n",
    "    print(\"Valor\", n1, \"é ímpar\")"
   ]
  },
  {
   "cell_type": "code",
   "execution_count": null,
   "id": "191224c3",
   "metadata": {},
   "outputs": [],
   "source": []
  }
 ],
 "metadata": {
  "kernelspec": {
   "display_name": "Python 3",
   "language": "python",
   "name": "python3"
  },
  "language_info": {
   "codemirror_mode": {
    "name": "ipython",
    "version": 3
   },
   "file_extension": ".py",
   "mimetype": "text/x-python",
   "name": "python",
   "nbconvert_exporter": "python",
   "pygments_lexer": "ipython3",
   "version": "3.13.2"
  }
 },
 "nbformat": 4,
 "nbformat_minor": 5
}
