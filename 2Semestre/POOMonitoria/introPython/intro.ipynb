{
 "cells": [
  {
   "cell_type": "markdown",
   "id": "37273cf4",
   "metadata": {},
   "source": [
    "## Oi tudo bem?\n"
   ]
  },
  {
   "cell_type": "code",
   "execution_count": 1,
   "id": "ca952bce",
   "metadata": {},
   "outputs": [
    {
     "name": "stdout",
     "output_type": "stream",
     "text": [
      "ciro nass\n"
     ]
    }
   ],
   "source": [
    "nome = input(str(\"Digite o nome: \")) \n",
    "sobrenome = input(str(\"Digite o sobrenome: \"))\n",
    "print(nome + \" \" + sobrenome)"
   ]
  },
  {
   "cell_type": "markdown",
   "id": "c935c9de",
   "metadata": {},
   "source": [
    "## Testes de python"
   ]
  },
  {
   "cell_type": "code",
   "execution_count": null,
   "id": "9fa7b5d3",
   "metadata": {},
   "outputs": [
    {
     "name": "stdout",
     "output_type": "stream",
     "text": [
      "Resultado 6.0\n",
      "Resultado dividido: 3.0\n"
     ]
    }
   ],
   "source": [
    "n1 = float(input(\"Digite o primeiro valor\"))\n",
    "n2 = float(input(\"Digite o segundo valor\"))\n",
    "soma = n1 + n2\n",
    "print(\"Resultado\", soma)\n",
    "print(\"Resultado dividido:\", soma/2)"
   ]
  },
  {
   "cell_type": "markdown",
   "id": "cc7257de",
   "metadata": {},
   "source": [
    "## Desvios Condicionais"
   ]
  },
  {
   "cell_type": "code",
   "execution_count": null,
   "id": "9c913bd3",
   "metadata": {},
   "outputs": [
    {
     "name": "stdout",
     "output_type": "stream",
     "text": [
      "O numero é:  20.0\n"
     ]
    }
   ],
   "source": [
    "numero = float(input(\"Digite um numero: \"))\n",
    "if numero < 10 or numero > 20:\n",
    "    print(\"por favor, digite um maior que 10 e menor que 20\")\n",
    "else:\n",
    "    print(\"O numero é: \", numero)\n",
    " "
   ]
  },
  {
   "cell_type": "markdown",
   "id": "ffda9f08",
   "metadata": {},
   "source": [
    "## Calculadora"
   ]
  },
  {
   "cell_type": "code",
   "execution_count": 11,
   "id": "7aa925a6",
   "metadata": {},
   "outputs": [
    {
     "name": "stdout",
     "output_type": "stream",
     "text": [
      "Resultado: 1.0 + 3.0 Resultado: 4.0\n"
     ]
    }
   ],
   "source": [
    "operacao = input(\"Digite uma destas operacoes ( +, -, *, /): \")\n",
    "num1 = float(input(\"Digite o primeiro valor: \"))\n",
    "num2 = float(input(\"Digite o segundo valor: \"))\n",
    "\n",
    "# switch case\n",
    "match operacao:\n",
    "    case \"+\":\n",
    "        resultado = num1 + num2\n",
    "    case \"-\":\n",
    "        resultado = num1 - num2\n",
    "    case \"/\":\n",
    "        if num2 == 0:\n",
    "            print(\"não pode ser dividido por 0\")\n",
    "            resultado = False\n",
    "        else:\n",
    "            resultado = num1 / num2\n",
    "    case \"*\":\n",
    "        resultado = num1 * num2\n",
    "    case _:\n",
    "        print(\"Operacao invalida\")\n",
    "\n",
    "if operacao in \"+-*/\" and resultado != False:\n",
    "    print(\"Resultado:\", num1, operacao, num2, \"Resultado:\", resultado)"
   ]
  },
  {
   "cell_type": "markdown",
   "id": "112025b5",
   "metadata": {},
   "source": [
    "## Par ou impar"
   ]
  },
  {
   "cell_type": "code",
   "execution_count": null,
   "id": "f91fc6e4",
   "metadata": {},
   "outputs": [
    {
     "name": "stdout",
     "output_type": "stream",
     "text": [
      "Valor 0 é par\n"
     ]
    }
   ],
   "source": [
    "n1 = int(input(\"Digite um valor\"))\n",
    "\n",
    "if n1 % 2 == 0:\n",
    "    print(\"Valor\", n1, \"é par\")\n",
    "if n1 % 2 != 0: # ou Else   \n",
    "    print(\"Valor\", n1, \"é ímpar\")"
   ]
  },
  {
   "cell_type": "markdown",
   "id": "8e8e5f4f",
   "metadata": {},
   "source": [
    "## Loops"
   ]
  },
  {
   "cell_type": "code",
   "execution_count": null,
   "id": "1aeddf35",
   "metadata": {},
   "outputs": [
    {
     "name": "stdout",
     "output_type": "stream",
     "text": [
      "0\n",
      "1\n",
      "2\n",
      "3\n",
      "4\n"
     ]
    }
   ],
   "source": [
    "contador = 0\n",
    "while contador < 5:\n",
    "    print(contador)\n",
    "    contador += 1"
   ]
  },
  {
   "cell_type": "code",
   "execution_count": null,
   "id": "31851219",
   "metadata": {},
   "outputs": [
    {
     "name": "stdout",
     "output_type": "stream",
     "text": [
      "oi\n",
      "fala\n",
      "blz?\n",
      "tchau\n"
     ]
    }
   ],
   "source": [
    "frutas = ['oi','fala','blz?','tchau' ]\n",
    "for fruta in frutas:\n",
    "    print(fruta)"
   ]
  },
  {
   "cell_type": "code",
   "execution_count": null,
   "id": "e8b1ad73",
   "metadata": {},
   "outputs": [
    {
     "name": "stdout",
     "output_type": "stream",
     "text": [
      "1\n",
      "3\n",
      "5\n",
      "7\n",
      "9\n",
      "11\n",
      "13\n"
     ]
    }
   ],
   "source": [
    "for i in range(20):\n",
    "    if i == 15:\n",
    "        break\n",
    "    if i % 2 == 0:\n",
    "        continue\n",
    "    print(i)"
   ]
  },
  {
   "cell_type": "markdown",
   "id": "ce50ff00",
   "metadata": {},
   "source": [
    "### Caixa eletronico"
   ]
  },
  {
   "cell_type": "code",
   "execution_count": 33,
   "id": "aa1a6416",
   "metadata": {},
   "outputs": [
    {
     "name": "stdout",
     "output_type": "stream",
     "text": [
      "Saldo disponivel:  1000\n",
      "Saque invalido\n"
     ]
    }
   ],
   "source": [
    "saldo = 1000\n",
    "print(\"Saldo disponivel: \", saldo)\n",
    "saque = int(input(\"Digite o valor a ser sacado\"))\n",
    "\n",
    "if saque > saldo:\n",
    "    print(\"Saque maior que o valor de saldo\")\n",
    "while saldo >= saque:\n",
    "    if saque % 10 != 0:\n",
    "        print(\"Saque invalido\")\n",
    "        break\n",
    "    else:\n",
    "        print(\"Saque válido, retirando\", saque)\n",
    "        saldo -= saque\n",
    "        print(saldo)\n",
    "        break"
   ]
  },
  {
   "cell_type": "markdown",
   "id": "3825f8ef",
   "metadata": {},
   "source": [
    "## Vetores"
   ]
  },
  {
   "cell_type": "code",
   "execution_count": null,
   "id": "22365ffe",
   "metadata": {},
   "outputs": [
    {
     "name": "stdout",
     "output_type": "stream",
     "text": [
      "Salarios [213.0, 3.0, 135413.0, 13413.0, 23.0, 43.0]\n",
      "O maior salário é: R$ 135413.00\n",
      "O menor salário é: R$ 3.00\n",
      "A média dos salários é: R$149108.0 / 6 = R$ 24851.33\n"
     ]
    }
   ],
   "source": [
    "salarios = []\n",
    "i = 0\n",
    "while True:\n",
    "    salario = float(input(f\"Digite o salário {i+1}: \"))\n",
    "    if salario == 0:\n",
    "        break\n",
    "    else:\n",
    "        salarios.append(salario)\n",
    "        i += 1\n",
    "\n",
    "\n",
    "somaSalarios = 0\n",
    "# valor baixo para ir aumentando quando comparado a outros valores do vetor\n",
    "maiorSalario = 0\n",
    "# valor alto para ir diminuindo quando comparado a outros valores do vetor\n",
    "menorSalario = 100000000000000000000000000000000000000000000000000000000000000000000000000000000 \n",
    "for salario in salarios:\n",
    "    # pega o maior valor do vetor\n",
    "    if maiorSalario < salario:\n",
    "        maiorSalario = salario\n",
    "    # pega o menor valor do vetor\n",
    "    elif menorSalario > salario:\n",
    "        menorSalario = salario\n",
    "    somaSalarios += salario\n",
    "\n",
    "media = somaSalarios / i\n",
    "\n",
    "print(f\"Salarios {salarios}\")\n",
    "print(f\"O maior salário é: R$ {maiorSalario:.2f}\")\n",
    "print(f\"O menor salário é: R$ {menorSalario:.2f}\")\n",
    "print(f\"A média dos salários é: R$ {somaSalarios:.2f} / {i} = R$ {media:.2f}\")"
   ]
  },
  {
   "cell_type": "code",
   "execution_count": 38,
   "id": "68290e43",
   "metadata": {},
   "outputs": [
    {
     "name": "stdout",
     "output_type": "stream",
     "text": [
      "[]\n",
      "['Ciro']\n",
      "['Ciro', 'Outro']\n"
     ]
    }
   ],
   "source": [
    "alunos = []\n",
    "\n",
    "len(alunos)\n",
    "print(alunos)\n",
    "alunos.append(\"Ciro\")\n",
    "len(alunos)\n",
    "print(alunos)\n",
    "alunos.append(\"Outro\")\n",
    "len(alunos)\n",
    "print(alunos)"
   ]
  },
  {
   "cell_type": "markdown",
   "id": "eadc7c52",
   "metadata": {},
   "source": [
    "## Funções"
   ]
  },
  {
   "cell_type": "code",
   "execution_count": 2,
   "id": "3744b9e1",
   "metadata": {},
   "outputs": [
    {
     "name": "stdout",
     "output_type": "stream",
     "text": [
      "boa tarde\n"
     ]
    },
    {
     "data": {
      "text/plain": [
       "'olá, tudo bem?'"
      ]
     },
     "execution_count": 2,
     "metadata": {},
     "output_type": "execute_result"
    }
   ],
   "source": [
    "def saudar():\n",
    "    print(\"boa tarde\")\n",
    "def saudar2():\n",
    "    return \"olá, tudo bem?\"\n",
    "\n",
    "saudar()\n",
    "saudar2()"
   ]
  },
  {
   "cell_type": "code",
   "execution_count": 3,
   "id": "a4ad4d4f",
   "metadata": {},
   "outputs": [
    {
     "name": "stdout",
     "output_type": "stream",
     "text": [
      "5\n"
     ]
    }
   ],
   "source": [
    "def somar(a,b):\n",
    "    return a + b\n",
    "\n",
    "resultado = somar(2,3)\n",
    "print(resultado)"
   ]
  },
  {
   "cell_type": "code",
   "execution_count": 24,
   "id": "908c2729",
   "metadata": {},
   "outputs": [
    {
     "name": "stdout",
     "output_type": "stream",
     "text": [
      "Saudações ciro, tudo bem contigo?\n"
     ]
    }
   ],
   "source": [
    "def cumprimento(nome):\n",
    "    print(f\"Saudações {nome}, tudo bem contigo?\")\n",
    "\n",
    "cumprimento(input(\"Digite seu nome: \"))\n"
   ]
  },
  {
   "cell_type": "code",
   "execution_count": 10,
   "id": "951a740f",
   "metadata": {},
   "outputs": [
    {
     "name": "stdout",
     "output_type": "stream",
     "text": [
      "Média dos alunos:  22.75\n"
     ]
    }
   ],
   "source": [
    "def calcularMediaIdades(idades):\n",
    "    soma = 0\n",
    "    for idade in idades:\n",
    "        soma += idade\n",
    "    return soma/len(idades)\n",
    "\n",
    "idades_alunos=[12,22,34,23]\n",
    "\n",
    "print(\"Média dos alunos: \", calcularMediaIdades(idades_alunos))"
   ]
  },
  {
   "cell_type": "code",
   "execution_count": 13,
   "id": "dbb3de6b",
   "metadata": {},
   "outputs": [
    {
     "name": "stdout",
     "output_type": "stream",
     "text": [
      "42\n"
     ]
    }
   ],
   "source": [
    "def area_retangulo(base,altura):\n",
    "    area = base * altura\n",
    "    return print(area)\n",
    "\n",
    "def imprime_Area():\n",
    "    b = int(input(\"Digite a base do retangulo: \"))\n",
    "    a = int(input(\"Digite a altura do retangulo: \"))\n",
    "    area_retangulo(b,a)\n",
    "\n",
    "imprime_Area()"
   ]
  },
  {
   "cell_type": "code",
   "execution_count": null,
   "id": "80aab02c",
   "metadata": {},
   "outputs": [
    {
     "name": "stdout",
     "output_type": "stream",
     "text": [
      "787\n",
      "438674\n",
      "787\n",
      "438674\n"
     ]
    }
   ],
   "source": [
    "def maior_valor(lista):\n",
    "    maiorValor = max(lista)\n",
    "    return maiorValor\n",
    "\n",
    "# sem viadagem do max\n",
    "def maiorValor(lista):\n",
    "    maior = 0\n",
    "    for item in lista:\n",
    "        if maior < item:\n",
    "            maior = item\n",
    "        else:\n",
    "            continue\n",
    "    return maior\n",
    "\n",
    "valores = [1,5,8,10,34,756,324,787,354,322]\n",
    "valores2 = [4,87,34,438674,5635]\n",
    "print(maior_valor(valores))\n",
    "print(maior_valor(valores2))\n",
    "\n",
    "print(maiorValor(valores))\n",
    "print(maiorValor(valores2))"
   ]
  }
 ],
 "metadata": {
  "kernelspec": {
   "display_name": "Python 3",
   "language": "python",
   "name": "python3"
  },
  "language_info": {
   "codemirror_mode": {
    "name": "ipython",
    "version": 3
   },
   "file_extension": ".py",
   "mimetype": "text/x-python",
   "name": "python",
   "nbconvert_exporter": "python",
   "pygments_lexer": "ipython3",
   "version": "3.13.2"
  }
 },
 "nbformat": 4,
 "nbformat_minor": 5
}
